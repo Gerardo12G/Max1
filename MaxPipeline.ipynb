{
 "cells": [
  {
   "cell_type": "markdown",
   "metadata": {},
   "source": [
    "# Max Bot Pipeline"
   ]
  },
  {
   "cell_type": "code",
   "execution_count": 29,
   "metadata": {
    "collapsed": true
   },
   "outputs": [],
   "source": [
    "%matplotlib inline\n",
    "import pandas as pd\n",
    "import codecs\n",
    "import numpy as np\n",
    "import re\n",
    "import spacy\n",
    "\n",
    "from maxbot.sensors.nlu.cleaning import NLCleaner\n",
    "from sklearn.feature_extraction.text import TfidfVectorizer\n",
    "from sklearn.metrics.pairwise import cosine_similarity\n",
    "from sklearn.decomposition import TruncatedSVD\n",
    "from pprint import pprint"
   ]
  },
  {
   "cell_type": "code",
   "execution_count": 30,
   "metadata": {},
   "outputs": [
    {
     "data": {
      "text/html": [
       "<div>\n",
       "<style>\n",
       "    .dataframe thead tr:only-child th {\n",
       "        text-align: right;\n",
       "    }\n",
       "\n",
       "    .dataframe thead th {\n",
       "        text-align: left;\n",
       "    }\n",
       "\n",
       "    .dataframe tbody tr th {\n",
       "        vertical-align: top;\n",
       "    }\n",
       "</style>\n",
       "<table border=\"1\" class=\"dataframe\">\n",
       "  <thead>\n",
       "    <tr style=\"text-align: right;\">\n",
       "      <th></th>\n",
       "      <th>PHRASE</th>\n",
       "      <th>INTENT</th>\n",
       "    </tr>\n",
       "  </thead>\n",
       "  <tbody>\n",
       "    <tr>\n",
       "      <th>0</th>\n",
       "      <td>Faltan mis 20 días por año</td>\n",
       "      <td>20dias</td>\n",
       "    </tr>\n",
       "    <tr>\n",
       "      <th>1</th>\n",
       "      <td>Calcular 20 días año</td>\n",
       "      <td>20dias</td>\n",
       "    </tr>\n",
       "    <tr>\n",
       "      <th>2</th>\n",
       "      <td>¿ pago  20 días por año?</td>\n",
       "      <td>20dias</td>\n",
       "    </tr>\n",
       "    <tr>\n",
       "      <th>3</th>\n",
       "      <td>Faltan  20 días</td>\n",
       "      <td>20dias</td>\n",
       "    </tr>\n",
       "    <tr>\n",
       "      <th>4</th>\n",
       "      <td>¿Y mis 20 días por año?</td>\n",
       "      <td>20dias</td>\n",
       "    </tr>\n",
       "  </tbody>\n",
       "</table>\n",
       "</div>"
      ],
      "text/plain": [
       "                       PHRASE  INTENT\n",
       "0  Faltan mis 20 días por año  20dias\n",
       "1        Calcular 20 días año  20dias\n",
       "2    ¿ pago  20 días por año?  20dias\n",
       "3             Faltan  20 días  20dias\n",
       "4     ¿Y mis 20 días por año?  20dias"
      ]
     },
     "execution_count": 30,
     "metadata": {},
     "output_type": "execute_result"
    }
   ],
   "source": [
    "intents = pd.read_csv('data/intents.csv', \n",
    "                      names=['PHRASE', 'INTENT'])\n",
    "intents.head()"
   ]
  },
  {
   "cell_type": "code",
   "execution_count": 2,
   "metadata": {},
   "outputs": [
    {
     "data": {
      "text/plain": [
       "re.compile(r'((\\*)|(¿)|(\\?)|(!)|(¡)|(-)|(\\_)|(\\.)|(:)|(;)|(\\,)|(\\{)|(\\})|(\\ba\\b)|(\\\\)|(\\/)|(\\#)|(\\\")|(\\')|(\\()|(\\))|(\\bante\\b)|(\\bbajo\\b)|(\\bcabe\\b)|(\\bcon\\b)|(\\bcontra\\b)|(\\bde\\b)|(\\bdesde\\b)|(\\bpara\\b)|(\\bpor\\b)|(\\bsegún\\b)|(\\bsolo\\b)|(\\bhasta\\b)|(\\bel\\b)|(\\bla\\b)|(\\blos\\b)|(\\blas\\b)|(\\bmi\\b)|(\\bsu\\b)|(\\bnuestro\\b)|(\\bsuyo\\b)|(\\bsuya\\b)|(\\bsuyos\\b)|(\\bsuyas\\b)|(\\by\\b)|(\\bo\\b)|(\\bu\\b))',\n",
       "re.UNICODE)"
      ]
     },
     "execution_count": 2,
     "metadata": {},
     "output_type": "execute_result"
    }
   ],
   "source": [
    "cleaner = NLCleaner()\n",
    "cleaner.stopw_regex"
   ]
  },
  {
   "cell_type": "markdown",
   "metadata": {},
   "source": [
    "## Corpus-based intent detector"
   ]
  },
  {
   "cell_type": "code",
   "execution_count": 3,
   "metadata": {
    "collapsed": true
   },
   "outputs": [],
   "source": [
    "VECTORIZER = TfidfVectorizer(analyzer='char',\n",
    "                            #stop_words=cleaner.stopwords,\n",
    "                            #strip_accents='ascii',\n",
    "                            ngram_range=(1, 5))"
   ]
  },
  {
   "cell_type": "code",
   "execution_count": 175,
   "metadata": {},
   "outputs": [
    {
     "data": {
      "text/html": [
       "<div>\n",
       "<style>\n",
       "    .dataframe thead tr:only-child th {\n",
       "        text-align: right;\n",
       "    }\n",
       "\n",
       "    .dataframe thead th {\n",
       "        text-align: left;\n",
       "    }\n",
       "\n",
       "    .dataframe tbody tr th {\n",
       "        vertical-align: top;\n",
       "    }\n",
       "</style>\n",
       "<table border=\"1\" class=\"dataframe\">\n",
       "  <thead>\n",
       "    <tr style=\"text-align: right;\">\n",
       "      <th></th>\n",
       "      <th>INTENT</th>\n",
       "      <th>DOC</th>\n",
       "    </tr>\n",
       "  </thead>\n",
       "  <tbody>\n",
       "    <tr>\n",
       "      <th>32</th>\n",
       "      <td>Asesoria</td>\n",
       "      <td>en que temas me puedes asesorar me puedes ases...</td>\n",
       "    </tr>\n",
       "    <tr>\n",
       "      <th>33</th>\n",
       "      <td>RepartoUtilidades</td>\n",
       "      <td>utilidades cuanto me deben pagar reparto utili...</td>\n",
       "    </tr>\n",
       "    <tr>\n",
       "      <th>34</th>\n",
       "      <td>Despido_injustificado</td>\n",
       "      <td>despido injustiicado hablame sobre despido inj...</td>\n",
       "    </tr>\n",
       "    <tr>\n",
       "      <th>35</th>\n",
       "      <td>Felicitaciones</td>\n",
       "      <td>congratulations felicidades muy bien</td>\n",
       "    </tr>\n",
       "    <tr>\n",
       "      <th>36</th>\n",
       "      <td>Descanso</td>\n",
       "      <td>que pasa 1 primero mayo 1o mayo se trabaja 1 m...</td>\n",
       "    </tr>\n",
       "  </tbody>\n",
       "</table>\n",
       "</div>"
      ],
      "text/plain": [
       "                   INTENT                                                DOC\n",
       "32               Asesoria  en que temas me puedes asesorar me puedes ases...\n",
       "33      RepartoUtilidades  utilidades cuanto me deben pagar reparto utili...\n",
       "34  Despido_injustificado  despido injustiicado hablame sobre despido inj...\n",
       "35         Felicitaciones               congratulations felicidades muy bien\n",
       "36               Descanso  que pasa 1 primero mayo 1o mayo se trabaja 1 m..."
      ]
     },
     "execution_count": 175,
     "metadata": {},
     "output_type": "execute_result"
    }
   ],
   "source": [
    "whole_corpus = []\n",
    "for intent in set(intents.INTENT):\n",
    "    doc = ' '.join(intents.PHRASE[intents.INTENT == intent])\n",
    "    doc = cleaner.remove_stopwords_text(doc)\n",
    "    whole_corpus.append([intent, doc])\n",
    "    \n",
    "whole_corpus = pd.DataFrame(whole_corpus, \n",
    "                            columns=['INTENT', 'DOC'])\n",
    "whole_corpus.tail(5)"
   ]
  },
  {
   "cell_type": "code",
   "execution_count": 176,
   "metadata": {},
   "outputs": [
    {
     "data": {
      "text/html": [
       "<div>\n",
       "<style>\n",
       "    .dataframe thead tr:only-child th {\n",
       "        text-align: right;\n",
       "    }\n",
       "\n",
       "    .dataframe thead th {\n",
       "        text-align: left;\n",
       "    }\n",
       "\n",
       "    .dataframe tbody tr th {\n",
       "        vertical-align: top;\n",
       "    }\n",
       "</style>\n",
       "<table border=\"1\" class=\"dataframe\">\n",
       "  <thead>\n",
       "    <tr style=\"text-align: right;\">\n",
       "      <th></th>\n",
       "      <th>INTENT</th>\n",
       "      <th>DOC</th>\n",
       "    </tr>\n",
       "  </thead>\n",
       "  <tbody>\n",
       "    <tr>\n",
       "      <th>33</th>\n",
       "      <td>RepartoUtilidades</td>\n",
       "      <td>utilidades cuanto me deben pagar reparto utili...</td>\n",
       "    </tr>\n",
       "    <tr>\n",
       "      <th>34</th>\n",
       "      <td>Despido_injustificado</td>\n",
       "      <td>despido injustiicado hablame sobre despido inj...</td>\n",
       "    </tr>\n",
       "    <tr>\n",
       "      <th>35</th>\n",
       "      <td>Felicitaciones</td>\n",
       "      <td>congratulations felicidades muy bien</td>\n",
       "    </tr>\n",
       "    <tr>\n",
       "      <th>36</th>\n",
       "      <td>Descanso</td>\n",
       "      <td>que pasa 1 primero mayo 1o mayo se trabaja 1 m...</td>\n",
       "    </tr>\n",
       "    <tr>\n",
       "      <th>0</th>\n",
       "      <td>TBD</td>\n",
       "      <td>me puedes decir mi finiquito</td>\n",
       "    </tr>\n",
       "  </tbody>\n",
       "</table>\n",
       "</div>"
      ],
      "text/plain": [
       "                   INTENT                                                DOC\n",
       "33      RepartoUtilidades  utilidades cuanto me deben pagar reparto utili...\n",
       "34  Despido_injustificado  despido injustiicado hablame sobre despido inj...\n",
       "35         Felicitaciones               congratulations felicidades muy bien\n",
       "36               Descanso  que pasa 1 primero mayo 1o mayo se trabaja 1 m...\n",
       "0                     TBD                       me puedes decir mi finiquito"
      ]
     },
     "execution_count": 176,
     "metadata": {},
     "output_type": "execute_result"
    }
   ],
   "source": [
    "query = pd.DataFrame([['TBD', 'me puedes decir mi finiquito']],\n",
    "                     columns=['INTENT', 'DOC'])\n",
    "whole_corpus = whole_corpus.append(query)\n",
    "whole_corpus.tail(5)"
   ]
  },
  {
   "cell_type": "code",
   "execution_count": 177,
   "metadata": {},
   "outputs": [
    {
     "data": {
      "text/plain": [
       "(38, 5116)"
      ]
     },
     "execution_count": 177,
     "metadata": {},
     "output_type": "execute_result"
    }
   ],
   "source": [
    "tfidfs = VECTORIZER.fit_transform(whole_corpus.DOC)\n",
    "tfidfs.shape"
   ]
  },
  {
   "cell_type": "code",
   "execution_count": 207,
   "metadata": {},
   "outputs": [
    {
     "data": {
      "text/html": [
       "<div>\n",
       "<style>\n",
       "    .dataframe thead tr:only-child th {\n",
       "        text-align: right;\n",
       "    }\n",
       "\n",
       "    .dataframe thead th {\n",
       "        text-align: left;\n",
       "    }\n",
       "\n",
       "    .dataframe tbody tr th {\n",
       "        vertical-align: top;\n",
       "    }\n",
       "</style>\n",
       "<table border=\"1\" class=\"dataframe\">\n",
       "  <thead>\n",
       "    <tr style=\"text-align: right;\">\n",
       "      <th></th>\n",
       "      <th>SCORE</th>\n",
       "    </tr>\n",
       "  </thead>\n",
       "  <tbody>\n",
       "    <tr>\n",
       "      <th>derecho-civil</th>\n",
       "      <td>0.13389872542392045</td>\n",
       "    </tr>\n",
       "    <tr>\n",
       "      <th>derecho-de-protección-de-datos</th>\n",
       "      <td>0.023073262844865126</td>\n",
       "    </tr>\n",
       "    <tr>\n",
       "      <th>Pregunta_de_aguinaldo</th>\n",
       "      <td>0.05759208858500174</td>\n",
       "    </tr>\n",
       "    <tr>\n",
       "      <th>NoDespedido</th>\n",
       "      <td>0.15092854666429312</td>\n",
       "    </tr>\n",
       "    <tr>\n",
       "      <th>Comisiones</th>\n",
       "      <td>0.09312760296020209</td>\n",
       "    </tr>\n",
       "    <tr>\n",
       "      <th>derecho-mercantil</th>\n",
       "      <td>0.07727380263617256</td>\n",
       "    </tr>\n",
       "    <tr>\n",
       "      <th>Día</th>\n",
       "      <td>0.08644722400431328</td>\n",
       "    </tr>\n",
       "    <tr>\n",
       "      <th>Creación</th>\n",
       "      <td>0.10926867012319103</td>\n",
       "    </tr>\n",
       "    <tr>\n",
       "      <th>derecho-familiar</th>\n",
       "      <td>0.1286599159418947</td>\n",
       "    </tr>\n",
       "    <tr>\n",
       "      <th>chiste</th>\n",
       "      <td>0.12144336282225268</td>\n",
       "    </tr>\n",
       "    <tr>\n",
       "      <th>derecho-penal</th>\n",
       "      <td>0.10202917860319077</td>\n",
       "    </tr>\n",
       "    <tr>\n",
       "      <th>Registro_de_marca</th>\n",
       "      <td>0.049050413741951994</td>\n",
       "    </tr>\n",
       "    <tr>\n",
       "      <th>Trolleo</th>\n",
       "      <td>0.08942120483319568</td>\n",
       "    </tr>\n",
       "    <tr>\n",
       "      <th>Pregunta_de_vacaciones</th>\n",
       "      <td>0.09270287330180309</td>\n",
       "    </tr>\n",
       "    <tr>\n",
       "      <th>Agradecimientos</th>\n",
       "      <td>0.06628394635811702</td>\n",
       "    </tr>\n",
       "    <tr>\n",
       "      <th>Afirmativo</th>\n",
       "      <td>0.11987015120648231</td>\n",
       "    </tr>\n",
       "    <tr>\n",
       "      <th>inseguro</th>\n",
       "      <td>0.12973638749879798</td>\n",
       "    </tr>\n",
       "    <tr>\n",
       "      <th>Pregunta_de_liquidacion</th>\n",
       "      <td>0.18372081035750032</td>\n",
       "    </tr>\n",
       "    <tr>\n",
       "      <th>Pregunta_de_finiquito</th>\n",
       "      <td>0.30782825513218776</td>\n",
       "    </tr>\n",
       "    <tr>\n",
       "      <th>Negativo</th>\n",
       "      <td>0.10065829626632503</td>\n",
       "    </tr>\n",
       "    <tr>\n",
       "      <th>Pregunta_de_estado</th>\n",
       "      <td>0.07007195357384169</td>\n",
       "    </tr>\n",
       "    <tr>\n",
       "      <th>Quien_te_creo</th>\n",
       "      <td>0.09420378493506815</td>\n",
       "    </tr>\n",
       "    <tr>\n",
       "      <th>derecho-administrativo</th>\n",
       "      <td>0.12614858675927104</td>\n",
       "    </tr>\n",
       "    <tr>\n",
       "      <th>Nacimiento</th>\n",
       "      <td>0.08206371693990304</td>\n",
       "    </tr>\n",
       "    <tr>\n",
       "      <th>derecho-fiscal</th>\n",
       "      <td>0.09804347527192785</td>\n",
       "    </tr>\n",
       "    <tr>\n",
       "      <th>Confidencialidad_laboral</th>\n",
       "      <td>0.05682524627733184</td>\n",
       "    </tr>\n",
       "    <tr>\n",
       "      <th>Trabajar</th>\n",
       "      <td>0.15969963891884364</td>\n",
       "    </tr>\n",
       "    <tr>\n",
       "      <th>20dias</th>\n",
       "      <td>0.061122945422530425</td>\n",
       "    </tr>\n",
       "    <tr>\n",
       "      <th>Temas_de_confidecialidad</th>\n",
       "      <td>0.16175690099801288</td>\n",
       "    </tr>\n",
       "    <tr>\n",
       "      <th>DudaSalarioMinimo</th>\n",
       "      <td>0.12378282601804012</td>\n",
       "    </tr>\n",
       "    <tr>\n",
       "      <th>Saludo</th>\n",
       "      <td>0.09486663850033682</td>\n",
       "    </tr>\n",
       "    <tr>\n",
       "      <th>Cuanto_tarda_el_finiquito</th>\n",
       "      <td>0.41477377942348614</td>\n",
       "    </tr>\n",
       "    <tr>\n",
       "      <th>Asesoria</th>\n",
       "      <td>0.24984276069980582</td>\n",
       "    </tr>\n",
       "    <tr>\n",
       "      <th>RepartoUtilidades</th>\n",
       "      <td>0.12572317469539593</td>\n",
       "    </tr>\n",
       "    <tr>\n",
       "      <th>Despido_injustificado</th>\n",
       "      <td>0.12092711211890048</td>\n",
       "    </tr>\n",
       "    <tr>\n",
       "      <th>Felicitaciones</th>\n",
       "      <td>0.08339502722361807</td>\n",
       "    </tr>\n",
       "    <tr>\n",
       "      <th>Descanso</th>\n",
       "      <td>0.07314038524575821</td>\n",
       "    </tr>\n",
       "  </tbody>\n",
       "</table>\n",
       "</div>"
      ],
      "text/plain": [
       "                                               SCORE\n",
       "derecho-civil                    0.13389872542392045\n",
       "derecho-de-protección-de-datos  0.023073262844865126\n",
       "Pregunta_de_aguinaldo            0.05759208858500174\n",
       "NoDespedido                      0.15092854666429312\n",
       "Comisiones                       0.09312760296020209\n",
       "derecho-mercantil                0.07727380263617256\n",
       "Día                              0.08644722400431328\n",
       "Creación                         0.10926867012319103\n",
       "derecho-familiar                  0.1286599159418947\n",
       "chiste                           0.12144336282225268\n",
       "derecho-penal                    0.10202917860319077\n",
       "Registro_de_marca               0.049050413741951994\n",
       "Trolleo                          0.08942120483319568\n",
       "Pregunta_de_vacaciones           0.09270287330180309\n",
       "Agradecimientos                  0.06628394635811702\n",
       "Afirmativo                       0.11987015120648231\n",
       "inseguro                         0.12973638749879798\n",
       "Pregunta_de_liquidacion          0.18372081035750032\n",
       "Pregunta_de_finiquito            0.30782825513218776\n",
       "Negativo                         0.10065829626632503\n",
       "Pregunta_de_estado               0.07007195357384169\n",
       "Quien_te_creo                    0.09420378493506815\n",
       "derecho-administrativo           0.12614858675927104\n",
       "Nacimiento                       0.08206371693990304\n",
       "derecho-fiscal                   0.09804347527192785\n",
       "Confidencialidad_laboral         0.05682524627733184\n",
       "Trabajar                         0.15969963891884364\n",
       "20dias                          0.061122945422530425\n",
       "Temas_de_confidecialidad         0.16175690099801288\n",
       "DudaSalarioMinimo                0.12378282601804012\n",
       "Saludo                           0.09486663850033682\n",
       "Cuanto_tarda_el_finiquito        0.41477377942348614\n",
       "Asesoria                         0.24984276069980582\n",
       "RepartoUtilidades                0.12572317469539593\n",
       "Despido_injustificado            0.12092711211890048\n",
       "Felicitaciones                   0.08339502722361807\n",
       "Descanso                         0.07314038524575821"
      ]
     },
     "execution_count": 207,
     "metadata": {},
     "output_type": "execute_result"
    }
   ],
   "source": [
    "query_tfidf = tfidfs[-1, :]\n",
    "comps = []\n",
    "for i, vect in enumerate(tfidfs[:-1, :]):\n",
    "    score = cosine_similarity(query_tfidf, vect).squeeze()\n",
    "    comps.append([whole_corpus.INTENT[:-1][i], score])\n",
    "comps = pd.DataFrame(index=[i[0] for i in comps],\n",
    "                     data={'SCORE': [i[1] for i in comps]})\n",
    "comps"
   ]
  },
  {
   "cell_type": "code",
   "execution_count": 210,
   "metadata": {},
   "outputs": [
    {
     "data": {
      "text/plain": [
       "<matplotlib.axes._subplots.AxesSubplot at 0x10d5a7978>"
      ]
     },
     "execution_count": 210,
     "metadata": {},
     "output_type": "execute_result"
    },
    {
     "data": {
      "image/png": "[encoded data removed]",
      "text/plain": [
       "<matplotlib.figure.Figure at 0x10d4af5c0>"
      ]
     },
     "metadata": {},
     "output_type": "display_data"
    }
   ],
   "source": [
    "comps.astype(float).plot(kind='bar')"
   ]
  },
  {
   "cell_type": "code",
   "execution_count": 217,
   "metadata": {},
   "outputs": [
    {
     "name": "stdout",
     "output_type": "stream",
     "text": [
      "                          PHRASE                 INTENT\n",
      "136  ¿ puedo calcular finiquito?  Pregunta_de_finiquito\n",
      "137       ¿Cuanto toca renuncia?  Pregunta_de_finiquito\n",
      "138           Pagar de finiquito  Pregunta_de_finiquito\n",
      "139           Calcular finiquito  Pregunta_de_finiquito\n",
      "140            calcular renuncia  Pregunta_de_finiquito\n",
      "141       renunciar cuánto pagar  Pregunta_de_finiquito\n",
      "142                     Renuncia  Pregunta_de_finiquito\n",
      "143                    Finiquito  Pregunta_de_finiquito\n",
      "144             Quiero renunciar  Pregunta_de_finiquito\n",
      "                                  PHRASE                     INTENT\n",
      "46  En cuanto tiempo me dan mi finiquito  Cuanto_tarda_el_finiquito\n",
      "47          Cuando me llega mi finiquito  Cuanto_tarda_el_finiquito\n",
      "48  Cunto tengo que esperar mi finiquito  Cuanto_tarda_el_finiquito\n",
      "49  Cuando tiene que llegar mi finiquito  Cuanto_tarda_el_finiquito\n",
      "50             Cuanto tarda mi finiquito  Cuanto_tarda_el_finiquito\n"
     ]
    },
    {
     "data": {
      "text/html": [
       "<div>\n",
       "<style>\n",
       "    .dataframe thead tr:only-child th {\n",
       "        text-align: right;\n",
       "    }\n",
       "\n",
       "    .dataframe thead th {\n",
       "        text-align: left;\n",
       "    }\n",
       "\n",
       "    .dataframe tbody tr th {\n",
       "        vertical-align: top;\n",
       "    }\n",
       "</style>\n",
       "<table border=\"1\" class=\"dataframe\">\n",
       "  <thead>\n",
       "    <tr style=\"text-align: right;\">\n",
       "      <th></th>\n",
       "      <th>INTENT</th>\n",
       "      <th>DOC</th>\n",
       "    </tr>\n",
       "  </thead>\n",
       "  <tbody>\n",
       "    <tr>\n",
       "      <th>0</th>\n",
       "      <td>TBD</td>\n",
       "      <td>me puedes decir mi finiquito</td>\n",
       "    </tr>\n",
       "  </tbody>\n",
       "</table>\n",
       "</div>"
      ],
      "text/plain": [
       "  INTENT                           DOC\n",
       "0    TBD  me puedes decir mi finiquito"
      ]
     },
     "execution_count": 217,
     "metadata": {},
     "output_type": "execute_result"
    }
   ],
   "source": [
    "print(intents[intents.INTENT == 'Pregunta_de_finiquito'])\n",
    "print(intents[intents.INTENT == 'Cuanto_tarda_el_finiquito'])\n",
    "query"
   ]
  },
  {
   "cell_type": "markdown",
   "metadata": {},
   "source": [
    "## Data augmentation"
   ]
  },
  {
   "cell_type": "code",
   "execution_count": 15,
   "metadata": {
    "collapsed": true
   },
   "outputs": [],
   "source": [
    "import spacy\n",
    "nlp = spacy.load('es')"
   ]
  },
  {
   "cell_type": "code",
   "execution_count": 16,
   "metadata": {},
   "outputs": [
    {
     "name": "stdout",
     "output_type": "stream",
     "text": [
      "por su pollo\n",
      "por 18244196334509357400 por\n",
      "su 14248009254309298022 su\n",
      "pollo 16073858462310522486 pollo\n"
     ]
    }
   ],
   "source": [
    "doc = nlp(\"por su pollo\")\n",
    "print(' '.join([token.lemma_ for token in doc]))\n",
    "for token in doc:\n",
    "    print(token, token.lemma, token.lemma_)"
   ]
  },
  {
   "cell_type": "code",
   "execution_count": 20,
   "metadata": {},
   "outputs": [
    {
     "data": {
      "text/html": [
       "<div>\n",
       "<style>\n",
       "    .dataframe thead tr:only-child th {\n",
       "        text-align: right;\n",
       "    }\n",
       "\n",
       "    .dataframe thead th {\n",
       "        text-align: left;\n",
       "    }\n",
       "\n",
       "    .dataframe tbody tr th {\n",
       "        vertical-align: top;\n",
       "    }\n",
       "</style>\n",
       "<table border=\"1\" class=\"dataframe\">\n",
       "  <thead>\n",
       "    <tr style=\"text-align: right;\">\n",
       "      <th></th>\n",
       "      <th>INTENT</th>\n",
       "      <th>DOC</th>\n",
       "    </tr>\n",
       "  </thead>\n",
       "  <tbody>\n",
       "    <tr>\n",
       "      <th>32</th>\n",
       "      <td>Quien_te_creo</td>\n",
       "      <td>como te hicieron como te programaron quiin te ...</td>\n",
       "    </tr>\n",
       "    <tr>\n",
       "      <th>33</th>\n",
       "      <td>Temas_de_confidecialidad</td>\n",
       "      <td>me puedes habalar sobre temas confidencialidad...</td>\n",
       "    </tr>\n",
       "    <tr>\n",
       "      <th>34</th>\n",
       "      <td>derecho-mercantil</td>\n",
       "      <td>compañia seguros no quiere reembolsar asegurad...</td>\n",
       "    </tr>\n",
       "    <tr>\n",
       "      <th>35</th>\n",
       "      <td>Agradecimientos</td>\n",
       "      <td>te lo agradezco gracias muchas gracias muchisi...</td>\n",
       "    </tr>\n",
       "    <tr>\n",
       "      <th>36</th>\n",
       "      <td>inseguro</td>\n",
       "      <td>creo que fue creo que fue en no lo si no lo re...</td>\n",
       "    </tr>\n",
       "  </tbody>\n",
       "</table>\n",
       "</div>"
      ],
      "text/plain": [
       "                      INTENT  \\\n",
       "32             Quien_te_creo   \n",
       "33  Temas_de_confidecialidad   \n",
       "34         derecho-mercantil   \n",
       "35           Agradecimientos   \n",
       "36                  inseguro   \n",
       "\n",
       "                                                  DOC  \n",
       "32  como te hicieron como te programaron quiin te ...  \n",
       "33  me puedes habalar sobre temas confidencialidad...  \n",
       "34  compañia seguros no quiere reembolsar asegurad...  \n",
       "35  te lo agradezco gracias muchas gracias muchisi...  \n",
       "36  creo que fue creo que fue en no lo si no lo re...  "
      ]
     },
     "execution_count": 20,
     "metadata": {},
     "output_type": "execute_result"
    }
   ],
   "source": [
    "# Data augmentation\n",
    "aug_corpus = []\n",
    "for intent in set(intents.INTENT):\n",
    "    orig = ' '.join(intents.PHRASE[intents.INTENT == intent])\n",
    "    doc = nlp(orig)\n",
    "    augmented = orig + ' ' + ' '.join([' ' + token.lemma_ for token in doc])\n",
    "    augmented = cleaner.remove_stopwords_text(augmented)\n",
    "    aug_corpus.append([intent, augmented])\n",
    "    \n",
    "aug_corpus = pd.DataFrame(aug_corpus, \n",
    "                          columns=['INTENT', 'DOC'])\n",
    "aug_corpus.tail(5)"
   ]
  },
  {
   "cell_type": "code",
   "execution_count": 21,
   "metadata": {},
   "outputs": [
    {
     "data": {
      "text/html": [
       "<div>\n",
       "<style>\n",
       "    .dataframe thead tr:only-child th {\n",
       "        text-align: right;\n",
       "    }\n",
       "\n",
       "    .dataframe thead th {\n",
       "        text-align: left;\n",
       "    }\n",
       "\n",
       "    .dataframe tbody tr th {\n",
       "        vertical-align: top;\n",
       "    }\n",
       "</style>\n",
       "<table border=\"1\" class=\"dataframe\">\n",
       "  <thead>\n",
       "    <tr style=\"text-align: right;\">\n",
       "      <th></th>\n",
       "      <th>INTENT</th>\n",
       "      <th>DOC</th>\n",
       "    </tr>\n",
       "  </thead>\n",
       "  <tbody>\n",
       "    <tr>\n",
       "      <th>33</th>\n",
       "      <td>Temas_de_confidecialidad</td>\n",
       "      <td>me puedes habalar sobre temas confidencialidad...</td>\n",
       "    </tr>\n",
       "    <tr>\n",
       "      <th>34</th>\n",
       "      <td>derecho-mercantil</td>\n",
       "      <td>compañia seguros no quiere reembolsar asegurad...</td>\n",
       "    </tr>\n",
       "    <tr>\n",
       "      <th>35</th>\n",
       "      <td>Agradecimientos</td>\n",
       "      <td>te lo agradezco gracias muchas gracias muchisi...</td>\n",
       "    </tr>\n",
       "    <tr>\n",
       "      <th>36</th>\n",
       "      <td>inseguro</td>\n",
       "      <td>creo que fue creo que fue en no lo si no lo re...</td>\n",
       "    </tr>\n",
       "    <tr>\n",
       "      <th>0</th>\n",
       "      <td>TBD</td>\n",
       "      <td>por su pollo</td>\n",
       "    </tr>\n",
       "  </tbody>\n",
       "</table>\n",
       "</div>"
      ],
      "text/plain": [
       "                      INTENT  \\\n",
       "33  Temas_de_confidecialidad   \n",
       "34         derecho-mercantil   \n",
       "35           Agradecimientos   \n",
       "36                  inseguro   \n",
       "0                        TBD   \n",
       "\n",
       "                                                  DOC  \n",
       "33  me puedes habalar sobre temas confidencialidad...  \n",
       "34  compañia seguros no quiere reembolsar asegurad...  \n",
       "35  te lo agradezco gracias muchas gracias muchisi...  \n",
       "36  creo que fue creo que fue en no lo si no lo re...  \n",
       "0                                        por su pollo  "
      ]
     },
     "execution_count": 21,
     "metadata": {},
     "output_type": "execute_result"
    }
   ],
   "source": [
    "# Add query to intent frame\n",
    "query = pd.DataFrame([['TBD', 'por su pollo']],\n",
    "                     columns=['INTENT', 'DOC'])\n",
    "aug_corpus = aug_corpus.append(query)\n",
    "aug_corpus.tail(5)"
   ]
  },
  {
   "cell_type": "code",
   "execution_count": 22,
   "metadata": {},
   "outputs": [
    {
     "data": {
      "text/plain": [
       "((38, 6143), 856)"
      ]
     },
     "execution_count": 22,
     "metadata": {},
     "output_type": "execute_result"
    }
   ],
   "source": [
    "# Compute TF-IDF scores\n",
    "tfidfs = VECTORIZER.fit_transform(aug_corpus.DOC)\n",
    "max_features = len(max(aug_corpus.DOC, key=len))\n",
    "tfidfs.shape, max_features"
   ]
  },
  {
   "cell_type": "code",
   "execution_count": 23,
   "metadata": {},
   "outputs": [
    {
     "data": {
      "text/html": [
       "<div>\n",
       "<style>\n",
       "    .dataframe thead tr:only-child th {\n",
       "        text-align: right;\n",
       "    }\n",
       "\n",
       "    .dataframe thead th {\n",
       "        text-align: left;\n",
       "    }\n",
       "\n",
       "    .dataframe tbody tr th {\n",
       "        vertical-align: top;\n",
       "    }\n",
       "</style>\n",
       "<table border=\"1\" class=\"dataframe\">\n",
       "  <thead>\n",
       "    <tr style=\"text-align: right;\">\n",
       "      <th></th>\n",
       "      <th>SCORE</th>\n",
       "    </tr>\n",
       "  </thead>\n",
       "  <tbody>\n",
       "    <tr>\n",
       "      <th>derecho-fiscal</th>\n",
       "      <td>0.0193011</td>\n",
       "    </tr>\n",
       "    <tr>\n",
       "      <th>chiste</th>\n",
       "      <td>0.0222018</td>\n",
       "    </tr>\n",
       "    <tr>\n",
       "      <th>Negativo</th>\n",
       "      <td>0.0511954</td>\n",
       "    </tr>\n",
       "    <tr>\n",
       "      <th>derecho-civil</th>\n",
       "      <td>0.0402199</td>\n",
       "    </tr>\n",
       "    <tr>\n",
       "      <th>derecho-penal</th>\n",
       "      <td>0.0403789</td>\n",
       "    </tr>\n",
       "    <tr>\n",
       "      <th>Pregunta_de_estado</th>\n",
       "      <td>0.0251846</td>\n",
       "    </tr>\n",
       "    <tr>\n",
       "      <th>Confidencialidad_laboral</th>\n",
       "      <td>0.0135944</td>\n",
       "    </tr>\n",
       "    <tr>\n",
       "      <th>Pregunta_de_liquidacion</th>\n",
       "      <td>0.0337523</td>\n",
       "    </tr>\n",
       "    <tr>\n",
       "      <th>Día</th>\n",
       "      <td>0.0225261</td>\n",
       "    </tr>\n",
       "    <tr>\n",
       "      <th>Trabajar</th>\n",
       "      <td>0.0371766</td>\n",
       "    </tr>\n",
       "    <tr>\n",
       "      <th>Pregunta_de_vacaciones</th>\n",
       "      <td>0.0206292</td>\n",
       "    </tr>\n",
       "    <tr>\n",
       "      <th>Registro_de_marca</th>\n",
       "      <td>0.0193904</td>\n",
       "    </tr>\n",
       "    <tr>\n",
       "      <th>DudaSalarioMinimo</th>\n",
       "      <td>0.024471</td>\n",
       "    </tr>\n",
       "    <tr>\n",
       "      <th>Comisiones</th>\n",
       "      <td>0.0106984</td>\n",
       "    </tr>\n",
       "    <tr>\n",
       "      <th>Trolleo</th>\n",
       "      <td>0.0273367</td>\n",
       "    </tr>\n",
       "    <tr>\n",
       "      <th>Asesoria</th>\n",
       "      <td>0.0285296</td>\n",
       "    </tr>\n",
       "    <tr>\n",
       "      <th>derecho-familiar</th>\n",
       "      <td>0.0360101</td>\n",
       "    </tr>\n",
       "    <tr>\n",
       "      <th>Despido_injustificado</th>\n",
       "      <td>0.0242608</td>\n",
       "    </tr>\n",
       "    <tr>\n",
       "      <th>Pregunta_de_aguinaldo</th>\n",
       "      <td>0.0204596</td>\n",
       "    </tr>\n",
       "    <tr>\n",
       "      <th>RepartoUtilidades</th>\n",
       "      <td>0.0229723</td>\n",
       "    </tr>\n",
       "    <tr>\n",
       "      <th>Nacimiento</th>\n",
       "      <td>0.0236255</td>\n",
       "    </tr>\n",
       "    <tr>\n",
       "      <th>Afirmativo</th>\n",
       "      <td>0.0781029</td>\n",
       "    </tr>\n",
       "    <tr>\n",
       "      <th>20dias</th>\n",
       "      <td>0.0136041</td>\n",
       "    </tr>\n",
       "    <tr>\n",
       "      <th>Felicitaciones</th>\n",
       "      <td>0.0115388</td>\n",
       "    </tr>\n",
       "    <tr>\n",
       "      <th>Pregunta_de_finiquito</th>\n",
       "      <td>0.0227615</td>\n",
       "    </tr>\n",
       "    <tr>\n",
       "      <th>NoDespedido</th>\n",
       "      <td>0.0256811</td>\n",
       "    </tr>\n",
       "    <tr>\n",
       "      <th>derecho-de-protección-de-datos</th>\n",
       "      <td>0.0127027</td>\n",
       "    </tr>\n",
       "    <tr>\n",
       "      <th>Saludo</th>\n",
       "      <td>0.0409735</td>\n",
       "    </tr>\n",
       "    <tr>\n",
       "      <th>Creación</th>\n",
       "      <td>0.0219299</td>\n",
       "    </tr>\n",
       "    <tr>\n",
       "      <th>Descanso</th>\n",
       "      <td>0.0207202</td>\n",
       "    </tr>\n",
       "    <tr>\n",
       "      <th>derecho-administrativo</th>\n",
       "      <td>0.0424478</td>\n",
       "    </tr>\n",
       "    <tr>\n",
       "      <th>Cuanto_tarda_el_finiquito</th>\n",
       "      <td>0.022659</td>\n",
       "    </tr>\n",
       "    <tr>\n",
       "      <th>Quien_te_creo</th>\n",
       "      <td>0.0206777</td>\n",
       "    </tr>\n",
       "    <tr>\n",
       "      <th>Temas_de_confidecialidad</th>\n",
       "      <td>0.021051</td>\n",
       "    </tr>\n",
       "    <tr>\n",
       "      <th>derecho-mercantil</th>\n",
       "      <td>0.0320747</td>\n",
       "    </tr>\n",
       "    <tr>\n",
       "      <th>Agradecimientos</th>\n",
       "      <td>0.0150562</td>\n",
       "    </tr>\n",
       "    <tr>\n",
       "      <th>inseguro</th>\n",
       "      <td>0.0341042</td>\n",
       "    </tr>\n",
       "  </tbody>\n",
       "</table>\n",
       "</div>"
      ],
      "text/plain": [
       "                                    SCORE\n",
       "derecho-fiscal                  0.0193011\n",
       "chiste                          0.0222018\n",
       "Negativo                        0.0511954\n",
       "derecho-civil                   0.0402199\n",
       "derecho-penal                   0.0403789\n",
       "Pregunta_de_estado              0.0251846\n",
       "Confidencialidad_laboral        0.0135944\n",
       "Pregunta_de_liquidacion         0.0337523\n",
       "Día                             0.0225261\n",
       "Trabajar                        0.0371766\n",
       "Pregunta_de_vacaciones          0.0206292\n",
       "Registro_de_marca               0.0193904\n",
       "DudaSalarioMinimo                0.024471\n",
       "Comisiones                      0.0106984\n",
       "Trolleo                         0.0273367\n",
       "Asesoria                        0.0285296\n",
       "derecho-familiar                0.0360101\n",
       "Despido_injustificado           0.0242608\n",
       "Pregunta_de_aguinaldo           0.0204596\n",
       "RepartoUtilidades               0.0229723\n",
       "Nacimiento                      0.0236255\n",
       "Afirmativo                      0.0781029\n",
       "20dias                          0.0136041\n",
       "Felicitaciones                  0.0115388\n",
       "Pregunta_de_finiquito           0.0227615\n",
       "NoDespedido                     0.0256811\n",
       "derecho-de-protección-de-datos  0.0127027\n",
       "Saludo                          0.0409735\n",
       "Creación                        0.0219299\n",
       "Descanso                        0.0207202\n",
       "derecho-administrativo          0.0424478\n",
       "Cuanto_tarda_el_finiquito        0.022659\n",
       "Quien_te_creo                   0.0206777\n",
       "Temas_de_confidecialidad         0.021051\n",
       "derecho-mercantil               0.0320747\n",
       "Agradecimientos                 0.0150562\n",
       "inseguro                        0.0341042"
      ]
     },
     "execution_count": 23,
     "metadata": {},
     "output_type": "execute_result"
    }
   ],
   "source": [
    "# Compute cosine similarity scores\n",
    "query_tfidf = tfidfs[-1, :]\n",
    "comps = []\n",
    "for i, vect in enumerate(tfidfs[:-1, :]):\n",
    "    score = cosine_similarity(query_tfidf, vect).squeeze()\n",
    "    comps.append([aug_corpus.INTENT[:-1][i], score])\n",
    "comps = pd.DataFrame(index=[i[0] for i in comps],\n",
    "                     data={'SCORE': [i[1] for i in comps]})\n",
    "comps.SCORE = comps.SCORE/sum(comps.SCORE)\n",
    "comps"
   ]
  },
  {
   "cell_type": "code",
   "execution_count": 24,
   "metadata": {},
   "outputs": [
    {
     "data": {
      "text/plain": [
       "<matplotlib.axes._subplots.AxesSubplot at 0x107736240>"
      ]
     },
     "execution_count": 24,
     "metadata": {},
     "output_type": "execute_result"
    },
    {
     "data": {
      "image/png": "[encoded data removed]",
      "text/plain": [
       "<matplotlib.figure.Figure at 0x11325f3c8>"
      ]
     },
     "metadata": {},
     "output_type": "display_data"
    }
   ],
   "source": [
    "ax = comps.astype(float).plot(kind='bar')\n",
    "fig = ax.get_figure()\n",
    "fig.tight_layout()\n",
    "fig.savefig('scores.png')\n",
    "ax"
   ]
  },
  {
   "cell_type": "code",
   "execution_count": 25,
   "metadata": {},
   "outputs": [
    {
     "data": {
      "text/plain": [
       "'Afirmativo'"
      ]
     },
     "execution_count": 25,
     "metadata": {},
     "output_type": "execute_result"
    }
   ],
   "source": [
    "comps.index[comps.SCORE == max(comps.SCORE)][0]"
   ]
  },
  {
   "cell_type": "markdown",
   "metadata": {},
   "source": [
    "## Word classification testing"
   ]
  },
  {
   "cell_type": "code",
   "execution_count": 38,
   "metadata": {},
   "outputs": [],
   "source": [
    "from maxbot.sensors.nlu.parsing import NLParser, VECTORIZER\n",
    "from pattern.es import conjugate as conjugate_es"
   ]
  },
  {
   "cell_type": "code",
   "execution_count": 25,
   "metadata": {},
   "outputs": [
    {
     "name": "stdout",
     "output_type": "stream",
     "text": [
      "Augmenting intent internal representation...\n",
      "DONE\n"
     ]
    }
   ],
   "source": [
    "parser = NLParser(intent_data='data/intents.csv')"
   ]
  },
  {
   "cell_type": "code",
   "execution_count": 39,
   "metadata": {},
   "outputs": [
    {
     "data": {
      "text/plain": [
       "0                              faltará mi 20 día por año\n",
       "1                                   calculará 20 día año\n",
       "2                             ¿ pagar   20 día por año ?\n",
       "3                                       faltará   20 día\n",
       "4                                ¿ y mi 20 día por año ?\n",
       "5                                           por su pollo\n",
       "6                                                porfará\n",
       "7                                                    oká\n",
       "8                                                 awiwiá\n",
       "9                                                    eyá\n",
       "10                                               ahuevar\n",
       "11                                                 simón\n",
       "12                                            afirmativo\n",
       "13                                              correcto\n",
       "14                                          ser correcto\n",
       "15                                          por su poner\n",
       "16                                              asir ser\n",
       "17                                            continuará\n",
       "18                                            continuará\n",
       "19                                                    sí\n",
       "20                  comer poder constituirá uno sociedad\n",
       "21                        comer poder creará uno empresa\n",
       "22                              constitución de sociedad\n",
       "23                                   creación de empresa\n",
       "24                                        creará empresa\n",
       "25                  me poder ayudará a creará mi empresa\n",
       "26                       querrá constituirá uno sociedad\n",
       "27                             querrá creará uno empresa\n",
       "28                                      te el agradecerá\n",
       "29                                                gracia\n",
       "                             ...                        \n",
       "220           comer le hará parir trabajará con vosotros\n",
       "221                  querrá trabajará con fractal abogar\n",
       "222                                      servicio social\n",
       "223    comer poder liberará mi servicio social con vo...\n",
       "224      me gustará hará mi servicio social con vosotros\n",
       "225                                           joder coño\n",
       "226                                   sacará los caguama\n",
       "227                                              me amar\n",
       "228                                           tener pack\n",
       "229                                                 sexo\n",
       "230                                          él me amará\n",
       "231                                                  feo\n",
       "232                                             te amará\n",
       "233                                       pasará el pack\n",
       "234                                           más de uno\n",
       "235                                  más de uno personar\n",
       "236                                             do o más\n",
       "237                                           tres o más\n",
       "238                                                    2\n",
       "239                                                    3\n",
       "240                                                  uno\n",
       "241                                                    1\n",
       "242                                         tendrá dudar\n",
       "243                                 me surgirá uno dudar\n",
       "244                                  no me quedará claro\n",
       "245                                  tendrá alguno dudar\n",
       "246                                          por empresa\n",
       "247                                              empresa\n",
       "248                                          outsourcing\n",
       "249                                      ser outsourcing\n",
       "Name: PHRASE, Length: 250, dtype: object"
      ]
     },
     "execution_count": 39,
     "metadata": {},
     "output_type": "execute_result"
    }
   ],
   "source": [
    "def process(phrase):\n",
    "    doc = parser.nlp(phrase.lower())\n",
    "    processed = []\n",
    "    for token in doc:\n",
    "        if token.pos_ == 'VERB':\n",
    "            word = conjugate_es(str(token.lemma_), tense='future')\n",
    "            if word:\n",
    "                processed.append(word)\n",
    "        else:\n",
    "            processed.append(token.lemma_)\n",
    "    return ' '.join(processed)\n",
    "intents.PHRASE.apply(process)"
   ]
  },
  {
   "cell_type": "code",
   "execution_count": 27,
   "metadata": {},
   "outputs": [
    {
     "data": {
      "text/html": [
       "<div>\n",
       "<style>\n",
       "    .dataframe thead tr:only-child th {\n",
       "        text-align: right;\n",
       "    }\n",
       "\n",
       "    .dataframe thead th {\n",
       "        text-align: left;\n",
       "    }\n",
       "\n",
       "    .dataframe tbody tr th {\n",
       "        vertical-align: top;\n",
       "    }\n",
       "</style>\n",
       "<table border=\"1\" class=\"dataframe\">\n",
       "  <thead>\n",
       "    <tr style=\"text-align: right;\">\n",
       "      <th></th>\n",
       "      <th>DOC</th>\n",
       "      <th>REGEX</th>\n",
       "    </tr>\n",
       "  </thead>\n",
       "  <tbody>\n",
       "    <tr>\n",
       "      <th>derecho-fiscal</th>\n",
       "      <td>me llego un requerimiento del hacienda  me  ll...</td>\n",
       "      <td>re.compile('(\\\\bllego requerimiento hacienda\\\\...</td>\n",
       "    </tr>\n",
       "    <tr>\n",
       "      <th>20dias</th>\n",
       "      <td>faltan mis 20 dias año calcular 20 dias año pa...</td>\n",
       "      <td>re.compile('(\\\\bfaltan dias año\\\\b)|(\\\\bcalcul...</td>\n",
       "    </tr>\n",
       "    <tr>\n",
       "      <th>Afirmativo</th>\n",
       "      <td>pollo porfa ok awiwi ey ahuevo simon afirmativ...</td>\n",
       "      <td>re.compile('(\\\\bpor su pollo\\\\b)|(\\\\bporfa\\\\b)...</td>\n",
       "    </tr>\n",
       "    <tr>\n",
       "      <th>Agradecimientos</th>\n",
       "      <td>te lo agradezco gracias muchas gracias muchisi...</td>\n",
       "      <td>re.compile('(\\\\bte lo agradezco\\\\b)|(\\\\bgracia...</td>\n",
       "    </tr>\n",
       "    <tr>\n",
       "      <th>Asesoria</th>\n",
       "      <td>en que temas me puedes asesorar me puedes ases...</td>\n",
       "      <td>re.compile('(\\\\btemas asesorar\\\\b)|(\\\\bme pued...</td>\n",
       "    </tr>\n",
       "    <tr>\n",
       "      <th>derecho-penal</th>\n",
       "      <td>clonaron tarjeta robaron casa asesinaron espos...</td>\n",
       "      <td>re.compile('(\\\\bclonaron tarjeta\\\\b)|(\\\\brobar...</td>\n",
       "    </tr>\n",
       "    <tr>\n",
       "      <th>Pregunta_Constitucion_Sociedad</th>\n",
       "      <td>como puedo constituir una sociedad como puedo ...</td>\n",
       "      <td>re.compile('(\\\\bconstituir sociedad\\\\b)|(\\\\bcr...</td>\n",
       "    </tr>\n",
       "    <tr>\n",
       "      <th>Saludo</th>\n",
       "      <td>que hongo ayudame quiubo max saludos aloh holi...</td>\n",
       "      <td>re.compile('(\\\\bque hongo\\\\b)|(\\\\bayudame\\\\b)|...</td>\n",
       "    </tr>\n",
       "    <tr>\n",
       "      <th>Quien_te_creo</th>\n",
       "      <td>como te hicieron como te programaron quien te ...</td>\n",
       "      <td>re.compile('(\\\\bcomo te hicieron\\\\b)|(\\\\bcomo ...</td>\n",
       "    </tr>\n",
       "    <tr>\n",
       "      <th>Una_persona</th>\n",
       "      <td>una 1  uno  1</td>\n",
       "      <td>re.compile('(\\\\buna\\\\b)|(\\\\b1\\\\b)')</td>\n",
       "    </tr>\n",
       "    <tr>\n",
       "      <th>derecho-de-protección-de-datos</th>\n",
       "      <td>tarjeta clonada  tarjeta  clonar</td>\n",
       "      <td>re.compile('(\\\\btarjeta clonada\\\\b)')</td>\n",
       "    </tr>\n",
       "    <tr>\n",
       "      <th>Trolleo</th>\n",
       "      <td>joder coño saca caguamas me amas tienes packs ...</td>\n",
       "      <td>re.compile('(\\\\bjoder coño\\\\b)|(\\\\bsaca las ca...</td>\n",
       "    </tr>\n",
       "    <tr>\n",
       "      <th>Pregunta_de_estado</th>\n",
       "      <td>como estas como estas max como te va max como ...</td>\n",
       "      <td>re.compile('(\\\\bcomo estas\\\\b)|(\\\\bcomo estas ...</td>\n",
       "    </tr>\n",
       "    <tr>\n",
       "      <th>Inseguro</th>\n",
       "      <td>creo que fue creo que fue en no lo se no lo re...</td>\n",
       "      <td>re.compile('(\\\\bcreo que fue\\\\b)|(\\\\bcreo\\\\b)|...</td>\n",
       "    </tr>\n",
       "    <tr>\n",
       "      <th>Pregunta_de_finiquito</th>\n",
       "      <td>puedo calcular finiquito cuanto toca renuncia ...</td>\n",
       "      <td>re.compile('(\\\\bcalcular finiquito\\\\b)|(\\\\bcua...</td>\n",
       "    </tr>\n",
       "    <tr>\n",
       "      <th>Pregunta_de_liquidacion</th>\n",
       "      <td>pues novedad que puto jefe me va mandar alv li...</td>\n",
       "      <td>re.compile('(\\\\bnovedad puto jefe va mandar\\\\b...</td>\n",
       "    </tr>\n",
       "    <tr>\n",
       "      <th>Pregunta_de_aguinaldo</th>\n",
       "      <td>cuando pagar aguinaldo cuanto corresponde agui...</td>\n",
       "      <td>re.compile('(\\\\bcuando pagar aguinaldo\\\\b)|(\\\\...</td>\n",
       "    </tr>\n",
       "    <tr>\n",
       "      <th>chiste</th>\n",
       "      <td>cuentame un chiste jaja jajajajajajaja jejejej...</td>\n",
       "      <td>re.compile('(\\\\bcuentame un chiste\\\\b)|(\\\\bjaj...</td>\n",
       "    </tr>\n",
       "    <tr>\n",
       "      <th>Negativo</th>\n",
       "      <td>no nada negativo es incorrecto incorrecto eso ...</td>\n",
       "      <td>re.compile('(\\\\bno\\\\b)|(\\\\bpara nada\\\\b)|(\\\\bn...</td>\n",
       "    </tr>\n",
       "    <tr>\n",
       "      <th>Día</th>\n",
       "      <td>cual es fecha hoy que dia semana es hoy que di...</td>\n",
       "      <td>re.compile('(\\\\bfecha\\\\b)|(\\\\bdia semana\\\\b)|(...</td>\n",
       "    </tr>\n",
       "    <tr>\n",
       "      <th>NoDespedido</th>\n",
       "      <td>en realidad aun no me despiden creo que estoy ...</td>\n",
       "      <td>re.compile('(\\\\brealidad despiden\\\\b)|(\\\\bcreo...</td>\n",
       "    </tr>\n",
       "    <tr>\n",
       "      <th>Tener_duda</th>\n",
       "      <td>tengo dudas me surgio una duda no me queda cla...</td>\n",
       "      <td>re.compile('(\\\\btengo dudas\\\\b)|(\\\\bsurgio dud...</td>\n",
       "    </tr>\n",
       "    <tr>\n",
       "      <th>Despido_injustificado</th>\n",
       "      <td>despido injustiicado hablame sobre despido inj...</td>\n",
       "      <td>re.compile('(\\\\bdespido injustiicado\\\\b)|(\\\\bh...</td>\n",
       "    </tr>\n",
       "    <tr>\n",
       "      <th>derecho-mercantil</th>\n",
       "      <td>compañia seguros no quiere reembolsar asegurad...</td>\n",
       "      <td>re.compile('(\\\\bcompañia seguros quiere reembo...</td>\n",
       "    </tr>\n",
       "    <tr>\n",
       "      <th>RepartoUtilidades</th>\n",
       "      <td>utilidades cuanto me deben pagar reparto utili...</td>\n",
       "      <td>re.compile('(\\\\butilidades\\\\b)|(\\\\bpagar repar...</td>\n",
       "    </tr>\n",
       "    <tr>\n",
       "      <th>Trabajar</th>\n",
       "      <td>quiero chambear max quiero colaborar ustedes c...</td>\n",
       "      <td>re.compile('(\\\\bquiero chambear\\\\b)|(\\\\bquiero...</td>\n",
       "    </tr>\n",
       "    <tr>\n",
       "      <th>Confidencialidad_laboral</th>\n",
       "      <td>confidencialidad laboral  confidencialidad  la...</td>\n",
       "      <td>re.compile('(\\\\bconfidencialidad laboral\\\\b)')</td>\n",
       "    </tr>\n",
       "    <tr>\n",
       "      <th>Creación</th>\n",
       "      <td>quien trabajas quien esta detras ti quien te h...</td>\n",
       "      <td>re.compile('(\\\\bpara quien trabajas\\\\b)|(\\\\bde...</td>\n",
       "    </tr>\n",
       "    <tr>\n",
       "      <th>derecho-civil</th>\n",
       "      <td>inquilino no se quiere salir casa caseo no me ...</td>\n",
       "      <td>re.compile('(\\\\binquilino quiere salir casa\\\\b...</td>\n",
       "    </tr>\n",
       "    <tr>\n",
       "      <th>Temas_de_confidecialidad</th>\n",
       "      <td>me puedes habalar sobre temas confidencialidad...</td>\n",
       "      <td>re.compile('(\\\\bhabalar temas confidencialidad...</td>\n",
       "    </tr>\n",
       "    <tr>\n",
       "      <th>Trabajar_outsourcing</th>\n",
       "      <td>outsourcing es outsourcing  outsourcing  ser  ...</td>\n",
       "      <td>re.compile('(\\\\boutsourcing\\\\b)|(\\\\bes outsour...</td>\n",
       "    </tr>\n",
       "    <tr>\n",
       "      <th>Registro_de_marca</th>\n",
       "      <td>registrar logo registro marca logo registrar s...</td>\n",
       "      <td>re.compile('(\\\\bregistrar logo\\\\b)|(\\\\bregistr...</td>\n",
       "    </tr>\n",
       "    <tr>\n",
       "      <th>DudaSalarioMinimo</th>\n",
       "      <td>que es minimo salario cuanto me toca salario m...</td>\n",
       "      <td>re.compile('(\\\\bminimo salario\\\\b)|(\\\\btoca sa...</td>\n",
       "    </tr>\n",
       "    <tr>\n",
       "      <th>Comisiones</th>\n",
       "      <td>mis comiciones mas mis comiciones  mi  comicio...</td>\n",
       "      <td>re.compile('(\\\\bmis comiciones\\\\b)|(\\\\bmas mis...</td>\n",
       "    </tr>\n",
       "    <tr>\n",
       "      <th>Felicitaciones</th>\n",
       "      <td>congratulations felicidades muy bien  congratu...</td>\n",
       "      <td>re.compile('(\\\\bcongratulations\\\\b)|(\\\\bfelici...</td>\n",
       "    </tr>\n",
       "    <tr>\n",
       "      <th>Trabajar_empresa</th>\n",
       "      <td>empresa empresa  empresa  empresa</td>\n",
       "      <td>re.compile('(\\\\bpor empresa\\\\b)|(\\\\bempresa\\\\b)')</td>\n",
       "    </tr>\n",
       "    <tr>\n",
       "      <th>Descanso</th>\n",
       "      <td>que pasa 1 primero mayo 1o mayo se trabaja 1 m...</td>\n",
       "      <td>re.compile('(\\\\bpasa primero mayo\\\\b)|(\\\\b1o m...</td>\n",
       "    </tr>\n",
       "    <tr>\n",
       "      <th>Mas_de_una_persona</th>\n",
       "      <td>mas una mas una persona dos mas tres mas 2 3  ...</td>\n",
       "      <td>re.compile('(\\\\bmas de una\\\\b)|(\\\\bpersona\\\\b)...</td>\n",
       "    </tr>\n",
       "    <tr>\n",
       "      <th>Cuanto_tarda_el_finiquito</th>\n",
       "      <td>en cuanto tiempo me dan finiquito cuando me ll...</td>\n",
       "      <td>re.compile('(\\\\bcuanto tiempo dan finiquito\\\\b...</td>\n",
       "    </tr>\n",
       "    <tr>\n",
       "      <th>derecho-administrativo</th>\n",
       "      <td>me quieres llevar al torito me pararon transit...</td>\n",
       "      <td>re.compile('(\\\\bquieres llevar torito\\\\b)|(\\\\b...</td>\n",
       "    </tr>\n",
       "    <tr>\n",
       "      <th>Pregunta_de_vacaciones</th>\n",
       "      <td>cuantos dias tocan vacaciones vacaciones cuant...</td>\n",
       "      <td>re.compile('(\\\\bdias tocan vacaciones\\\\b)|(\\\\b...</td>\n",
       "    </tr>\n",
       "    <tr>\n",
       "      <th>derecho-familiar</th>\n",
       "      <td>quiero divorciar tacaño marido no me ha pagado...</td>\n",
       "      <td>re.compile('(\\\\bquiero divorciar\\\\b)|(\\\\btacañ...</td>\n",
       "    </tr>\n",
       "    <tr>\n",
       "      <th>Nacimiento</th>\n",
       "      <td>que signo eres cuando cumples años cuantos año...</td>\n",
       "      <td>re.compile('(\\\\bque signo eres\\\\b)|(\\\\bcuando ...</td>\n",
       "    </tr>\n",
       "  </tbody>\n",
       "</table>\n",
       "</div>"
      ],
      "text/plain": [
       "                                                                              DOC  \\\n",
       "derecho-fiscal                  me llego un requerimiento del hacienda  me  ll...   \n",
       "20dias                          faltan mis 20 dias año calcular 20 dias año pa...   \n",
       "Afirmativo                      pollo porfa ok awiwi ey ahuevo simon afirmativ...   \n",
       "Agradecimientos                 te lo agradezco gracias muchas gracias muchisi...   \n",
       "Asesoria                        en que temas me puedes asesorar me puedes ases...   \n",
       "derecho-penal                   clonaron tarjeta robaron casa asesinaron espos...   \n",
       "Pregunta_Constitucion_Sociedad  como puedo constituir una sociedad como puedo ...   \n",
       "Saludo                          que hongo ayudame quiubo max saludos aloh holi...   \n",
       "Quien_te_creo                   como te hicieron como te programaron quien te ...   \n",
       "Una_persona                                                         una 1  uno  1   \n",
       "derecho-de-protección-de-datos                   tarjeta clonada  tarjeta  clonar   \n",
       "Trolleo                         joder coño saca caguamas me amas tienes packs ...   \n",
       "Pregunta_de_estado              como estas como estas max como te va max como ...   \n",
       "Inseguro                        creo que fue creo que fue en no lo se no lo re...   \n",
       "Pregunta_de_finiquito           puedo calcular finiquito cuanto toca renuncia ...   \n",
       "Pregunta_de_liquidacion         pues novedad que puto jefe me va mandar alv li...   \n",
       "Pregunta_de_aguinaldo           cuando pagar aguinaldo cuanto corresponde agui...   \n",
       "chiste                          cuentame un chiste jaja jajajajajajaja jejejej...   \n",
       "Negativo                        no nada negativo es incorrecto incorrecto eso ...   \n",
       "Día                             cual es fecha hoy que dia semana es hoy que di...   \n",
       "NoDespedido                     en realidad aun no me despiden creo que estoy ...   \n",
       "Tener_duda                      tengo dudas me surgio una duda no me queda cla...   \n",
       "Despido_injustificado           despido injustiicado hablame sobre despido inj...   \n",
       "derecho-mercantil               compañia seguros no quiere reembolsar asegurad...   \n",
       "RepartoUtilidades               utilidades cuanto me deben pagar reparto utili...   \n",
       "Trabajar                        quiero chambear max quiero colaborar ustedes c...   \n",
       "Confidencialidad_laboral        confidencialidad laboral  confidencialidad  la...   \n",
       "Creación                        quien trabajas quien esta detras ti quien te h...   \n",
       "derecho-civil                   inquilino no se quiere salir casa caseo no me ...   \n",
       "Temas_de_confidecialidad        me puedes habalar sobre temas confidencialidad...   \n",
       "Trabajar_outsourcing            outsourcing es outsourcing  outsourcing  ser  ...   \n",
       "Registro_de_marca               registrar logo registro marca logo registrar s...   \n",
       "DudaSalarioMinimo               que es minimo salario cuanto me toca salario m...   \n",
       "Comisiones                      mis comiciones mas mis comiciones  mi  comicio...   \n",
       "Felicitaciones                  congratulations felicidades muy bien  congratu...   \n",
       "Trabajar_empresa                                empresa empresa  empresa  empresa   \n",
       "Descanso                        que pasa 1 primero mayo 1o mayo se trabaja 1 m...   \n",
       "Mas_de_una_persona              mas una mas una persona dos mas tres mas 2 3  ...   \n",
       "Cuanto_tarda_el_finiquito       en cuanto tiempo me dan finiquito cuando me ll...   \n",
       "derecho-administrativo          me quieres llevar al torito me pararon transit...   \n",
       "Pregunta_de_vacaciones          cuantos dias tocan vacaciones vacaciones cuant...   \n",
       "derecho-familiar                quiero divorciar tacaño marido no me ha pagado...   \n",
       "Nacimiento                      que signo eres cuando cumples años cuantos año...   \n",
       "\n",
       "                                                                            REGEX  \n",
       "derecho-fiscal                  re.compile('(\\\\bllego requerimiento hacienda\\\\...  \n",
       "20dias                          re.compile('(\\\\bfaltan dias año\\\\b)|(\\\\bcalcul...  \n",
       "Afirmativo                      re.compile('(\\\\bpor su pollo\\\\b)|(\\\\bporfa\\\\b)...  \n",
       "Agradecimientos                 re.compile('(\\\\bte lo agradezco\\\\b)|(\\\\bgracia...  \n",
       "Asesoria                        re.compile('(\\\\btemas asesorar\\\\b)|(\\\\bme pued...  \n",
       "derecho-penal                   re.compile('(\\\\bclonaron tarjeta\\\\b)|(\\\\brobar...  \n",
       "Pregunta_Constitucion_Sociedad  re.compile('(\\\\bconstituir sociedad\\\\b)|(\\\\bcr...  \n",
       "Saludo                          re.compile('(\\\\bque hongo\\\\b)|(\\\\bayudame\\\\b)|...  \n",
       "Quien_te_creo                   re.compile('(\\\\bcomo te hicieron\\\\b)|(\\\\bcomo ...  \n",
       "Una_persona                                   re.compile('(\\\\buna\\\\b)|(\\\\b1\\\\b)')  \n",
       "derecho-de-protección-de-datos              re.compile('(\\\\btarjeta clonada\\\\b)')  \n",
       "Trolleo                         re.compile('(\\\\bjoder coño\\\\b)|(\\\\bsaca las ca...  \n",
       "Pregunta_de_estado              re.compile('(\\\\bcomo estas\\\\b)|(\\\\bcomo estas ...  \n",
       "Inseguro                        re.compile('(\\\\bcreo que fue\\\\b)|(\\\\bcreo\\\\b)|...  \n",
       "Pregunta_de_finiquito           re.compile('(\\\\bcalcular finiquito\\\\b)|(\\\\bcua...  \n",
       "Pregunta_de_liquidacion         re.compile('(\\\\bnovedad puto jefe va mandar\\\\b...  \n",
       "Pregunta_de_aguinaldo           re.compile('(\\\\bcuando pagar aguinaldo\\\\b)|(\\\\...  \n",
       "chiste                          re.compile('(\\\\bcuentame un chiste\\\\b)|(\\\\bjaj...  \n",
       "Negativo                        re.compile('(\\\\bno\\\\b)|(\\\\bpara nada\\\\b)|(\\\\bn...  \n",
       "Día                             re.compile('(\\\\bfecha\\\\b)|(\\\\bdia semana\\\\b)|(...  \n",
       "NoDespedido                     re.compile('(\\\\brealidad despiden\\\\b)|(\\\\bcreo...  \n",
       "Tener_duda                      re.compile('(\\\\btengo dudas\\\\b)|(\\\\bsurgio dud...  \n",
       "Despido_injustificado           re.compile('(\\\\bdespido injustiicado\\\\b)|(\\\\bh...  \n",
       "derecho-mercantil               re.compile('(\\\\bcompañia seguros quiere reembo...  \n",
       "RepartoUtilidades               re.compile('(\\\\butilidades\\\\b)|(\\\\bpagar repar...  \n",
       "Trabajar                        re.compile('(\\\\bquiero chambear\\\\b)|(\\\\bquiero...  \n",
       "Confidencialidad_laboral           re.compile('(\\\\bconfidencialidad laboral\\\\b)')  \n",
       "Creación                        re.compile('(\\\\bpara quien trabajas\\\\b)|(\\\\bde...  \n",
       "derecho-civil                   re.compile('(\\\\binquilino quiere salir casa\\\\b...  \n",
       "Temas_de_confidecialidad        re.compile('(\\\\bhabalar temas confidencialidad...  \n",
       "Trabajar_outsourcing            re.compile('(\\\\boutsourcing\\\\b)|(\\\\bes outsour...  \n",
       "Registro_de_marca               re.compile('(\\\\bregistrar logo\\\\b)|(\\\\bregistr...  \n",
       "DudaSalarioMinimo               re.compile('(\\\\bminimo salario\\\\b)|(\\\\btoca sa...  \n",
       "Comisiones                      re.compile('(\\\\bmis comiciones\\\\b)|(\\\\bmas mis...  \n",
       "Felicitaciones                  re.compile('(\\\\bcongratulations\\\\b)|(\\\\bfelici...  \n",
       "Trabajar_empresa                re.compile('(\\\\bpor empresa\\\\b)|(\\\\bempresa\\\\b)')  \n",
       "Descanso                        re.compile('(\\\\bpasa primero mayo\\\\b)|(\\\\b1o m...  \n",
       "Mas_de_una_persona              re.compile('(\\\\bmas de una\\\\b)|(\\\\bpersona\\\\b)...  \n",
       "Cuanto_tarda_el_finiquito       re.compile('(\\\\bcuanto tiempo dan finiquito\\\\b...  \n",
       "derecho-administrativo          re.compile('(\\\\bquieres llevar torito\\\\b)|(\\\\b...  \n",
       "Pregunta_de_vacaciones          re.compile('(\\\\bdias tocan vacaciones\\\\b)|(\\\\b...  \n",
       "derecho-familiar                re.compile('(\\\\bquiero divorciar\\\\b)|(\\\\btacañ...  \n",
       "Nacimiento                      re.compile('(\\\\bque signo eres\\\\b)|(\\\\bcuando ...  "
      ]
     },
     "execution_count": 27,
     "metadata": {},
     "output_type": "execute_result"
    }
   ],
   "source": [
    "parser.intents"
   ]
  },
  {
   "cell_type": "code",
   "execution_count": 7,
   "metadata": {},
   "outputs": [
    {
     "data": {
      "text/html": [
       "<div>\n",
       "<style>\n",
       "    .dataframe thead tr:only-child th {\n",
       "        text-align: right;\n",
       "    }\n",
       "\n",
       "    .dataframe thead th {\n",
       "        text-align: left;\n",
       "    }\n",
       "\n",
       "    .dataframe tbody tr th {\n",
       "        vertical-align: top;\n",
       "    }\n",
       "</style>\n",
       "<table border=\"1\" class=\"dataframe\">\n",
       "  <thead>\n",
       "    <tr style=\"text-align: right;\">\n",
       "      <th></th>\n",
       "      <th>PHRASE</th>\n",
       "      <th>INTENT</th>\n",
       "      <th>RESULT</th>\n",
       "      <th>SCORE</th>\n",
       "    </tr>\n",
       "  </thead>\n",
       "  <tbody>\n",
       "    <tr>\n",
       "      <th>0</th>\n",
       "      <td>Faltan mis 20 días por año</td>\n",
       "      <td>20dias</td>\n",
       "      <td>20dias</td>\n",
       "      <td>0.193422</td>\n",
       "    </tr>\n",
       "    <tr>\n",
       "      <th>1</th>\n",
       "      <td>Calcular 20 días año</td>\n",
       "      <td>20dias</td>\n",
       "      <td>20dias</td>\n",
       "      <td>0.191411</td>\n",
       "    </tr>\n",
       "    <tr>\n",
       "      <th>2</th>\n",
       "      <td>¿ pago  20 días por año?</td>\n",
       "      <td>20dias</td>\n",
       "      <td>20dias</td>\n",
       "      <td>0.209875</td>\n",
       "    </tr>\n",
       "    <tr>\n",
       "      <th>3</th>\n",
       "      <td>Faltan  20 días</td>\n",
       "      <td>20dias</td>\n",
       "      <td>20dias</td>\n",
       "      <td>1.000000</td>\n",
       "    </tr>\n",
       "    <tr>\n",
       "      <th>4</th>\n",
       "      <td>¿Y mis 20 días por año?</td>\n",
       "      <td>20dias</td>\n",
       "      <td>20dias</td>\n",
       "      <td>0.227838</td>\n",
       "    </tr>\n",
       "  </tbody>\n",
       "</table>\n",
       "</div>"
      ],
      "text/plain": [
       "                       PHRASE  INTENT  RESULT     SCORE\n",
       "0  Faltan mis 20 días por año  20dias  20dias  0.193422\n",
       "1        Calcular 20 días año  20dias  20dias  0.191411\n",
       "2    ¿ pago  20 días por año?  20dias  20dias  0.209875\n",
       "3             Faltan  20 días  20dias  20dias  1.000000\n",
       "4     ¿Y mis 20 días por año?  20dias  20dias  0.227838"
      ]
     },
     "execution_count": 7,
     "metadata": {},
     "output_type": "execute_result"
    }
   ],
   "source": [
    "results.head()"
   ]
  },
  {
   "cell_type": "code",
   "execution_count": 8,
   "metadata": {},
   "outputs": [
    {
     "data": {
      "text/html": [
       "<div>\n",
       "<style>\n",
       "    .dataframe thead tr:only-child th {\n",
       "        text-align: right;\n",
       "    }\n",
       "\n",
       "    .dataframe thead th {\n",
       "        text-align: left;\n",
       "    }\n",
       "\n",
       "    .dataframe tbody tr th {\n",
       "        vertical-align: top;\n",
       "    }\n",
       "</style>\n",
       "<table border=\"1\" class=\"dataframe\">\n",
       "  <thead>\n",
       "    <tr style=\"text-align: right;\">\n",
       "      <th></th>\n",
       "      <th>PHRASE</th>\n",
       "      <th>INTENT</th>\n",
       "      <th>RESULT</th>\n",
       "      <th>SCORE</th>\n",
       "    </tr>\n",
       "  </thead>\n",
       "  <tbody>\n",
       "    <tr>\n",
       "      <th>42</th>\n",
       "      <td>¿Quién te hizo?</td>\n",
       "      <td>Creación</td>\n",
       "      <td>Quien_te_creo</td>\n",
       "      <td>0.149904</td>\n",
       "    </tr>\n",
       "    <tr>\n",
       "      <th>59</th>\n",
       "      <td>esta tarjeta ha sido clonada</td>\n",
       "      <td>derecho-civil</td>\n",
       "      <td>derecho-de-protección-de-datos</td>\n",
       "      <td>0.118792</td>\n",
       "    </tr>\n",
       "    <tr>\n",
       "      <th>99</th>\n",
       "      <td>No estoy seguro</td>\n",
       "      <td>inseguro</td>\n",
       "      <td>derecho-mercantil</td>\n",
       "      <td>0.083287</td>\n",
       "    </tr>\n",
       "    <tr>\n",
       "      <th>114</th>\n",
       "      <td>por supuesto que no</td>\n",
       "      <td>Negativo</td>\n",
       "      <td>inseguro</td>\n",
       "      <td>0.075921</td>\n",
       "    </tr>\n",
       "    <tr>\n",
       "      <th>140</th>\n",
       "      <td>¡Dime mi finiquito, Max!</td>\n",
       "      <td>Pregunta_de_finiquito</td>\n",
       "      <td>Cuanto_tarda_el_finiquito</td>\n",
       "      <td>0.133431</td>\n",
       "    </tr>\n",
       "    <tr>\n",
       "      <th>175</th>\n",
       "      <td>¿Quién te creó?</td>\n",
       "      <td>Quien_te_creo</td>\n",
       "      <td>Creación</td>\n",
       "      <td>0.136462</td>\n",
       "    </tr>\n",
       "  </tbody>\n",
       "</table>\n",
       "</div>"
      ],
      "text/plain": [
       "                           PHRASE                 INTENT  \\\n",
       "42                ¿Quién te hizo?               Creación   \n",
       "59   esta tarjeta ha sido clonada          derecho-civil   \n",
       "99                No estoy seguro               inseguro   \n",
       "114           por supuesto que no               Negativo   \n",
       "140      ¡Dime mi finiquito, Max!  Pregunta_de_finiquito   \n",
       "175               ¿Quién te creó?          Quien_te_creo   \n",
       "\n",
       "                             RESULT     SCORE  \n",
       "42                    Quien_te_creo  0.149904  \n",
       "59   derecho-de-protección-de-datos  0.118792  \n",
       "99                derecho-mercantil  0.083287  \n",
       "114                        inseguro  0.075921  \n",
       "140       Cuanto_tarda_el_finiquito  0.133431  \n",
       "175                        Creación  0.136462  "
      ]
     },
     "execution_count": 8,
     "metadata": {},
     "output_type": "execute_result"
    }
   ],
   "source": [
    "results[results.INTENT != results.RESULT]"
   ]
  },
  {
   "cell_type": "code",
   "execution_count": 39,
   "metadata": {},
   "outputs": [
    {
     "name": "stdout",
     "output_type": "stream",
     "text": [
      "Pregunta_de_vacaciones    cuantos dias tocan vacaciones vacaciones cuant...\n",
      "Name: DOC, dtype: object\n",
      "Pregunta_de_vacaciones 0.588768709991\n",
      "chiste    cuentame un chiste jaja estoy aburrido estoy d...\n",
      "Name: DOC, dtype: object\n",
      "chiste 0.5\n",
      "Pregunta_de_estado    como estas como estas max como te va max como ...\n",
      "Name: DOC, dtype: object\n",
      "Pregunta_de_estado 0.565912897178\n",
      "derecho-penal    clonaron tarjeta robaron casa asesinaron espos...\n",
      "Name: DOC, dtype: object\n",
      "derecho-penal 0.522086486862\n"
     ]
    }
   ],
   "source": [
    "commands = ['Pregunta_de_vacaciones', \n",
    "            'chiste', \n",
    "            'Pregunta_de_estado',\n",
    "            'derecho-penal']\n",
    "for c in commands:\n",
    "    _, score = parser.cosine_parse('deseo registrar mi marca', \n",
    "                                   parser._slice_intents([c, 'chiste']))\n",
    "    print(parser._slice_intents([c]).DOC)\n",
    "    print(c, score)"
   ]
  },
  {
   "cell_type": "code",
   "execution_count": 59,
   "metadata": {},
   "outputs": [
    {
     "name": "stdout",
     "output_type": "stream",
     "text": [
      "como estas como estas max como te va max como te va como has estado que tal te va max como va tu dia max como va tu dia  comer  este  comer  este  max  comer  te  ir  max  comer  te  ir  comer  haber  estar  que  tal  te  ir  max  comer  ir  tu  dia  max  comer  ir  tu  dia\n"
     ]
    },
    {
     "data": {
      "text/plain": [
       "array(0.6154849864992277)"
      ]
     },
     "execution_count": 59,
     "metadata": {},
     "output_type": "execute_result"
    }
   ],
   "source": [
    "key = parser._slice_intents(['Pregunta_de_estado']).DOC.values[0]\n",
    "print(key)\n",
    "query = 'como te va max'\n",
    "tfidfs = VECTORIZER.fit_transform([key, query])\n",
    "cosine_similarity(tfidfs[0, :], tfidfs[1, :]).squeeze()"
   ]
  },
  {
   "cell_type": "code",
   "execution_count": 68,
   "metadata": {},
   "outputs": [
    {
     "data": {
      "text/plain": [
       "<function maxbot.structures.fem.events.registro_marca_13>"
      ]
     },
     "execution_count": 68,
     "metadata": {},
     "output_type": "execute_result"
    }
   ],
   "source": [
    "getattr(events, 'registro_marca_13')"
   ]
  },
  {
   "cell_type": "code",
   "execution_count": 87,
   "metadata": {},
   "outputs": [
    {
     "name": "stdout",
     "output_type": "stream",
     "text": [
      "cuentame chiste jaja aburrido deprimido ya dime cosa dime chiste quiero reir cuentame chistar jaja aburrir deprimir ya dime coser dime chistar reir\n",
      "23 38 chiste\n",
      "agradezco gracias gracias muchisimas gracias grax agradezco ohhh gracias max mejor agradecer gracias gracia muchisimas gracia agradecer ohhh gracias max mejor\n",
      "21 31 Agradecimientos\n",
      "llego requerimiento del hacienda llegar requerimiento del hacendar\n",
      "8 12 derecho-fiscal\n",
      "max va max va qui va max va dia max va dia max ir max qui ir max ir dia max ir dia\n",
      "23 58 Pregunta_de_estado\n",
      "despido injustiicado hablame sobre despido injustficado jefe corrio sin motivo despido sin motivo rason despido injustiicado hablame sobrar despedir injustficado jefe corrio sin motivar despido sin motivar ni rason\n",
      "29 32 Despido_injustificado\n",
      "fecha hoy qui dia semana hoy qui dia hoy qui hoy dia semana hoy fecho hoy qui semana hoy dia hoy qui estar hoy dia semana hoy\n",
      "27 45 Día\n",
      "registrar logo registro marca logo registrar slogan slogan registrar marca registrar marca marca registrar logo registro marcar logo registrar eslogan slogan registrar marcar marca\n",
      "24 28 Registro_de_marca\n",
      "aguinaldo corresponde aguinaldo toca aguinaldo calcular aguinaldo aguinaldo aguinaldo corresponder aguinaldo tocar aguinaldo calcular aguinaldo aguinaldo\n",
      "16 26 Pregunta_de_aguinaldo\n",
      "clonaron tarjeta robaron casa asesinaron esposa depositi dinero cuenta no dieron boletos pidieron hacer deposito no dieron boletos clonar tarjeta casar asesinar esposo depositar dinero contar no dar boleto pidieron hacer deposito no dar boleto\n",
      "35 36 derecho-penal\n",
      "quiin trabajas quiin detras quiin hizo quiin creo quiin papa quiin programo quiin trabajar quiin detras quiin hacer quiin creer quiin papar quiin programar\n",
      "24 38 Creación\n",
      "utilidades cuanto pagar reparto utilidades no pagado reparto utilidades hacer dame info sobre reparto utilidades reparto utilidades utilidad cuanto repartir utilidad no pagar repartir utilidad qui deber hacer dame info sobrar repartir utilidad qui repartir utilidad\n",
      "36 52 RepartoUtilidades\n",
      "quieres llevar al torito pararon transito grua llevo coche llego orden clausura quiene clausurar negocio llevar al torito parar transito grua llevar coche llegar orden clausurar quiene clausurar negociar\n",
      "29 42 derecho-administrativo\n",
      "dias tocan vacaciones vacaciones cuanto toca vacaciones quisiera saber dias corresponden ley dias vacaciones dia tocar vacacion vacaciones tocar vacacion quisiera saber dia corresponder ley vacacion\n",
      "26 32 Pregunta_de_vacaciones\n",
      "inquilino no quiere salir casa caseo no quiere respetar contrato quiero cobrar pagari persona no pagado tarjeta clonada inquilino no salir casar no respetar cobrar pagar no pagar tarjeta clonar\n",
      "30 57 derecho-civil\n",
      "coño saca caguamas amas tienes packs sexo ama feo amo pasa pack sacar caguama amar tienes pack sexo il amar feo amar paso pack\n",
      "24 34 Trolleo\n",
      "pasa primero mayo 1o mayo trabaja mayo descansa paso mayar mayar trabajar mayo descansa\n",
      "14 26 Descanso\n",
      "en temas asesorar asesorar temas asesoria en temer asesorar asesorar temas asesoria\n",
      "12 22 Asesoria\n",
      "compañia seguros no quiere reembolsar aseguradora no respeto contrato compañia seguro no reembolsar asegurador no respetar contratar\n",
      "17 18 derecho-mercantil\n",
      "habalar sobre temas confidencialidad en trabajo privacidad confidencialidad en trabajo sobrar temer confidencialidad en trabajar privacidad confidencialidad en trabajar\n",
      "19 24 Temas_de_confidecialidad\n",
      "felicidades muy bien congratulations felicidades muy bien\n",
      "7 8 Felicitaciones\n",
      "calcular finiquito toca renuncia pagar finiquito dime finiquito max decir finiquito toca calcular finiquito calcular renuncia pagar renuncia finiquito quiero renunciar calcular finiquitar pagar finiquitar dime finiquitar max finiquitar tocar pagar renuncia finiquito quiero renunciar\n",
      "35 58 Pregunta_de_finiquito\n",
      "quiero chambear max quiero colaborar hago trabajar quiero trabajar fractal abogados servicio social liberar servicio social gustaria hacer servicio social chambear max quiero colaborar vosotros parir trabajar vosotros quiero trabajar fractal abogados servicio social liberar servicio social vosotros gustar hacer servicio social vosotros\n",
      "43 59 Trabajar\n",
      "tarjeta clonada tarjeta clonar\n",
      "4 4 derecho-de-protección-de-datos\n",
      "comiciones mas comiciones comiciones mas comiciones\n",
      "6 9 Comisiones\n",
      "minimo salario cuanto toca salario minimo salario minimo quiero cuanto salario minimo cuanto salario minimo qui cuanto tocar salariar minimo salariar salariar minimo saber cuanto salario minimo\n",
      "27 48 DudaSalarioMinimo\n",
      "novedad puto jefe va mandar alv liquidacion quiero cuanto toca liquidacion despido tendrian calcular liquidacion despedir tienen pagarme tienen pagar liquidacion despidieran tendrian pagar quieren baja quieren correr estan cuello quieren liquidar corresponde liquidacion liquidacion liquidacion despidiendo cuanto novedad puto jefe mandar alv liquidacion quiero cuanto tocar liquidacion despedir calcular liquidacion despedir tener pagarme pagar liquidacion despidieran cuello liquidar corresponder liquidacion liquidacion liquidacion pagar\n",
      "64 118 Pregunta_de_liquidacion\n",
      "no negativo incorrecto incorrecto error supuesto no pastel nelson no nadar negativo incorrecto incorrecto error no pastel nelson\n",
      "18 35 Negativo\n",
      "en realidad aun no creo despedido creo despedir en realidad todavia no despiden aun no despedido aun no despedido en realidad aun no creo despedir creo despedir en realidad todavia no despedir aun no despedir aun no despedir\n",
      "38 62 NoDespedido\n",
      "confidencialidad laboral confidencialidad laboral\n",
      "4 4 Confidencialidad_laboral\n",
      "ayudame quiubo max saludos aloh hola tengo problema paso consulta nueva consulta aceptar ayudame quiubo max saludo aloh hola tengo problema qui pasar nueva aceptar continuar\n",
      "26 42 Saludo\n",
      "hicieron programaron quiin creo quiin hizo hacer programar quiin crear quiin hacer\n",
      "12 24 Quien_te_creo\n",
      "qui signo cumples años años tienes naciste cumples años cumplir año año nacer cumples año\n",
      "15 26 Nacimiento\n",
      "en cuanto tiempo dan finiquito llega finiquito cunto tengo esperar finiquito tiene llegar finiquito tarda finiquito en tiempo dar finiquitar llegar finiquitar cunto esperar finiquitar finiquitar tardo finiquitar\n",
      "28 46 Cuanto_tarda_el_finiquito\n",
      "pollo porfa ok awiwi ey ahuevo simon afirmativo correcto correcto puesto asi continua pollo porfa ok awiwi ahuevar simon afirmativo correcto correcto poner continuar\n",
      "24 32 Afirmativo\n",
      "creo creo en no no recuerdo bien qui no seguro necesitas necesitas mucho no acuerdo creo creo en no no bien qui no seguro necesitar necesitar mucho no acordar\n",
      "29 51 inseguro\n",
      "quiero divorciar tacaño marido no pagado pension esposo no paga pension alimenticia fallecio no dejo testamento familiar fallecio testamento divorciar tacaño maridar no pagar pension esposar no pagar pension alimenticio no testamento familiar testamento\n",
      "34 47 derecho-familiar\n",
      "faltan dias año calcular dias año pago dias año faltan dias dias año faltan dia año calcular dia año dia año faltan dia año\n",
      "24 38 20dias\n"
     ]
    }
   ],
   "source": [
    "for _, row in aug_corpus.iterrows():\n",
    "    doc = nlp(row.DOC)\n",
    "    i = 0\n",
    "    j = 0\n",
    "    trim = []\n",
    "    for token in doc:\n",
    "        if token.pos_ in ['VERB', 'NOUN', 'ADJ', 'ADP','ADV']:\n",
    "            trim.append(str(token))\n",
    "            i += 1\n",
    "        j += 1\n",
    "    print(' '.join(trim))\n",
    "    print(i, j, row.INTENT)"
   ]
  },
  {
   "cell_type": "code",
   "execution_count": 101,
   "metadata": {},
   "outputs": [
    {
     "data": {
      "text/html": [
       "<div>\n",
       "<style>\n",
       "    .dataframe thead tr:only-child th {\n",
       "        text-align: right;\n",
       "    }\n",
       "\n",
       "    .dataframe thead th {\n",
       "        text-align: left;\n",
       "    }\n",
       "\n",
       "    .dataframe tbody tr th {\n",
       "        vertical-align: top;\n",
       "    }\n",
       "</style>\n",
       "<table border=\"1\" class=\"dataframe\">\n",
       "  <thead>\n",
       "    <tr style=\"text-align: right;\">\n",
       "      <th></th>\n",
       "      <th>INTENT</th>\n",
       "      <th>DOC</th>\n",
       "    </tr>\n",
       "  </thead>\n",
       "  <tbody>\n",
       "    <tr>\n",
       "      <th>0</th>\n",
       "      <td>derecho-mercantil</td>\n",
       "      <td>17    compañia seguros no quiere reembolsar as...</td>\n",
       "    </tr>\n",
       "    <tr>\n",
       "      <th>1</th>\n",
       "      <td>Descanso</td>\n",
       "      <td>15    que pasa 1 primero mayo 1o mayo se traba...</td>\n",
       "    </tr>\n",
       "    <tr>\n",
       "      <th>2</th>\n",
       "      <td>Trolleo</td>\n",
       "      <td>14    joder coño saca caguamas me amas tienes ...</td>\n",
       "    </tr>\n",
       "  </tbody>\n",
       "</table>\n",
       "</div>"
      ],
      "text/plain": [
       "              INTENT                                                DOC\n",
       "0  derecho-mercantil  17    compañia seguros no quiere reembolsar as...\n",
       "1           Descanso  15    que pasa 1 primero mayo 1o mayo se traba...\n",
       "2            Trolleo  14    joder coño saca caguamas me amas tienes ..."
      ]
     },
     "execution_count": 101,
     "metadata": {},
     "output_type": "execute_result"
    }
   ],
   "source": [
    "keys = ['derecho-mercantil', 'Descanso', 'Trolleo', 'derecho-penal']\n",
    "sliced = []\n",
    "for k in keys:\n",
    "    sliced.append([k, aug_corpus.DOC[aug_corpus.INTENT == k]])\n",
    "sliced = pd.DataFrame(sliced, columns=aug_corpus.keys())\n",
    "sliced"
   ]
  },
  {
   "cell_type": "code",
   "execution_count": 105,
   "metadata": {},
   "outputs": [
    {
     "data": {
      "text/html": [
       "<div>\n",
       "<style>\n",
       "    .dataframe thead tr:only-child th {\n",
       "        text-align: right;\n",
       "    }\n",
       "\n",
       "    .dataframe thead th {\n",
       "        text-align: left;\n",
       "    }\n",
       "\n",
       "    .dataframe tbody tr th {\n",
       "        vertical-align: top;\n",
       "    }\n",
       "</style>\n",
       "<table border=\"1\" class=\"dataframe\">\n",
       "  <thead>\n",
       "    <tr style=\"text-align: right;\">\n",
       "      <th></th>\n",
       "      <th>INTENT</th>\n",
       "      <th>DOC</th>\n",
       "      <th>lel</th>\n",
       "    </tr>\n",
       "  </thead>\n",
       "  <tbody>\n",
       "    <tr>\n",
       "      <th>0</th>\n",
       "      <td>derecho-mercantil</td>\n",
       "      <td>17    compañia seguros no quiere reembolsar as...</td>\n",
       "      <td>1</td>\n",
       "    </tr>\n",
       "    <tr>\n",
       "      <th>1</th>\n",
       "      <td>Descanso</td>\n",
       "      <td>15    que pasa 1 primero mayo 1o mayo se traba...</td>\n",
       "      <td>2</td>\n",
       "    </tr>\n",
       "    <tr>\n",
       "      <th>2</th>\n",
       "      <td>Trolleo</td>\n",
       "      <td>14    joder coño saca caguamas me amas tienes ...</td>\n",
       "      <td>3</td>\n",
       "    </tr>\n",
       "  </tbody>\n",
       "</table>\n",
       "</div>"
      ],
      "text/plain": [
       "              INTENT                                                DOC  lel\n",
       "0  derecho-mercantil  17    compañia seguros no quiere reembolsar as...    1\n",
       "1           Descanso  15    que pasa 1 primero mayo 1o mayo se traba...    2\n",
       "2            Trolleo  14    joder coño saca caguamas me amas tienes ...    3"
      ]
     },
     "execution_count": 105,
     "metadata": {},
     "output_type": "execute_result"
    }
   ],
   "source": [
    "sliced['lel'] = pd.Series([1, 2, 3])\n",
    "sliced"
   ]
  },
  {
   "cell_type": "code",
   "execution_count": 18,
   "metadata": {
    "collapsed": true
   },
   "outputs": [],
   "source": [
    "import pandas as pd\n",
    "from maxbot.sensors.nlu.parsing import NLParser"
   ]
  },
  {
   "cell_type": "code",
   "execution_count": 19,
   "metadata": {},
   "outputs": [
    {
     "name": "stdout",
     "output_type": "stream",
     "text": [
      "Augmenting intent internal representation...\n",
      "DONE\n"
     ]
    }
   ],
   "source": [
    "parser = NLParser(intent_data='data/intents.csv')"
   ]
  },
  {
   "cell_type": "code",
   "execution_count": 23,
   "metadata": {},
   "outputs": [
    {
     "data": {
      "text/html": [
       "<div>\n",
       "<style>\n",
       "    .dataframe thead tr:only-child th {\n",
       "        text-align: right;\n",
       "    }\n",
       "\n",
       "    .dataframe thead th {\n",
       "        text-align: left;\n",
       "    }\n",
       "\n",
       "    .dataframe tbody tr th {\n",
       "        vertical-align: top;\n",
       "    }\n",
       "</style>\n",
       "<table border=\"1\" class=\"dataframe\">\n",
       "  <thead>\n",
       "    <tr style=\"text-align: right;\">\n",
       "      <th></th>\n",
       "      <th>DOC</th>\n",
       "      <th>REGEX</th>\n",
       "    </tr>\n",
       "  </thead>\n",
       "  <tbody>\n",
       "    <tr>\n",
       "      <th>Descanso</th>\n",
       "      <td>que pasa 1 primero mayo 1o mayo se trabaja 1 m...</td>\n",
       "      <td>re.compile('(\\\\bpasa primero mayo\\\\b)|(\\\\b1o m...</td>\n",
       "    </tr>\n",
       "    <tr>\n",
       "      <th>Una_persona</th>\n",
       "      <td>una 1  uno  1</td>\n",
       "      <td>re.compile('(\\\\buna\\\\b)|(\\\\b1\\\\b)')</td>\n",
       "    </tr>\n",
       "    <tr>\n",
       "      <th>Trabajar_empresa</th>\n",
       "      <td>empresa empresa  empresa  empresa</td>\n",
       "      <td>re.compile('(\\\\bpor empresa\\\\b)|(\\\\bempresa\\\\b)')</td>\n",
       "    </tr>\n",
       "    <tr>\n",
       "      <th>Día</th>\n",
       "      <td>cual es fecha hoy que dia semana es hoy que di...</td>\n",
       "      <td>re.compile('(\\\\bfecha\\\\b)|(\\\\bdia semana\\\\b)|(...</td>\n",
       "    </tr>\n",
       "    <tr>\n",
       "      <th>20dias</th>\n",
       "      <td>faltan mis 20 dias año calcular 20 dias año pa...</td>\n",
       "      <td>re.compile('(\\\\bfaltan dias año\\\\b)|(\\\\bcalcul...</td>\n",
       "    </tr>\n",
       "    <tr>\n",
       "      <th>Pregunta_Constitucion_Sociedad</th>\n",
       "      <td>como puedo constituir una sociedad como puedo ...</td>\n",
       "      <td>re.compile('(\\\\bconstituir sociedad\\\\b)|(\\\\bcr...</td>\n",
       "    </tr>\n",
       "    <tr>\n",
       "      <th>Pregunta_de_estado</th>\n",
       "      <td>como estas como estas max como te va max como ...</td>\n",
       "      <td>re.compile('(\\\\bcomo estas\\\\b)|(\\\\bcomo estas ...</td>\n",
       "    </tr>\n",
       "    <tr>\n",
       "      <th>derecho-mercantil</th>\n",
       "      <td>compañia seguros no quiere reembolsar asegurad...</td>\n",
       "      <td>re.compile('(\\\\bcompañia seguros quiere reembo...</td>\n",
       "    </tr>\n",
       "    <tr>\n",
       "      <th>NoDespedido</th>\n",
       "      <td>en realidad aun no me despiden creo que estoy ...</td>\n",
       "      <td>re.compile('(\\\\brealidad despiden\\\\b)|(\\\\bcreo...</td>\n",
       "    </tr>\n",
       "    <tr>\n",
       "      <th>derecho-familiar</th>\n",
       "      <td>quiero divorciar tacaño marido no me ha pagado...</td>\n",
       "      <td>re.compile('(\\\\bquiero divorciar\\\\b)|(\\\\btacañ...</td>\n",
       "    </tr>\n",
       "    <tr>\n",
       "      <th>Comisiones</th>\n",
       "      <td>mis comiciones mas mis comiciones  mi  comicio...</td>\n",
       "      <td>re.compile('(\\\\bmis comiciones\\\\b)|(\\\\bmas mis...</td>\n",
       "    </tr>\n",
       "    <tr>\n",
       "      <th>Trabajar_outsourcing</th>\n",
       "      <td>outsourcing es outsourcing  outsourcing  ser  ...</td>\n",
       "      <td>re.compile('(\\\\boutsourcing\\\\b)|(\\\\bes outsour...</td>\n",
       "    </tr>\n",
       "    <tr>\n",
       "      <th>derecho-penal</th>\n",
       "      <td>clonaron tarjeta robaron casa asesinaron espos...</td>\n",
       "      <td>re.compile('(\\\\bclonaron tarjeta\\\\b)|(\\\\brobar...</td>\n",
       "    </tr>\n",
       "    <tr>\n",
       "      <th>derecho-fiscal</th>\n",
       "      <td>me llego un requerimiento del hacienda  me  ll...</td>\n",
       "      <td>re.compile('(\\\\bllego requerimiento hacienda\\\\...</td>\n",
       "    </tr>\n",
       "    <tr>\n",
       "      <th>Despido_injustificado</th>\n",
       "      <td>despido injustiicado hablame sobre despido inj...</td>\n",
       "      <td>re.compile('(\\\\bdespido injustiicado\\\\b)|(\\\\bh...</td>\n",
       "    </tr>\n",
       "    <tr>\n",
       "      <th>Trolleo</th>\n",
       "      <td>joder coño saca caguamas me amas tienes packs ...</td>\n",
       "      <td>re.compile('(\\\\bjoder coño\\\\b)|(\\\\bsaca las ca...</td>\n",
       "    </tr>\n",
       "    <tr>\n",
       "      <th>Pregunta_de_finiquito</th>\n",
       "      <td>puedo calcular finiquito cuanto toca renuncia ...</td>\n",
       "      <td>re.compile('(\\\\bcalcular finiquito\\\\b)|(\\\\bcua...</td>\n",
       "    </tr>\n",
       "    <tr>\n",
       "      <th>DudaSalarioMinimo</th>\n",
       "      <td>que es minimo salario cuanto me toca salario m...</td>\n",
       "      <td>re.compile('(\\\\bminimo salario\\\\b)|(\\\\btoca sa...</td>\n",
       "    </tr>\n",
       "    <tr>\n",
       "      <th>chiste</th>\n",
       "      <td>cuentame un chiste jaja jajajajajajaja jejejej...</td>\n",
       "      <td>re.compile('(\\\\bcuentame un chiste\\\\b)|(\\\\bjaj...</td>\n",
       "    </tr>\n",
       "    <tr>\n",
       "      <th>derecho-administrativo</th>\n",
       "      <td>me quieres llevar al torito me pararon transit...</td>\n",
       "      <td>re.compile('(\\\\bquieres llevar torito\\\\b)|(\\\\b...</td>\n",
       "    </tr>\n",
       "    <tr>\n",
       "      <th>derecho-civil</th>\n",
       "      <td>inquilino no se quiere salir casa caseo no me ...</td>\n",
       "      <td>re.compile('(\\\\binquilino quiere salir casa\\\\b...</td>\n",
       "    </tr>\n",
       "    <tr>\n",
       "      <th>Confidencialidad_laboral</th>\n",
       "      <td>confidencialidad laboral  confidencialidad  la...</td>\n",
       "      <td>re.compile('(\\\\bconfidencialidad laboral\\\\b)')</td>\n",
       "    </tr>\n",
       "    <tr>\n",
       "      <th>Cuanto_tarda_el_finiquito</th>\n",
       "      <td>en cuanto tiempo me dan finiquito cuando me ll...</td>\n",
       "      <td>re.compile('(\\\\bcuanto tiempo dan finiquito\\\\b...</td>\n",
       "    </tr>\n",
       "    <tr>\n",
       "      <th>Tener_duda</th>\n",
       "      <td>tengo dudas me surgio una duda no me queda cla...</td>\n",
       "      <td>re.compile('(\\\\btengo dudas\\\\b)|(\\\\bsurgio dud...</td>\n",
       "    </tr>\n",
       "    <tr>\n",
       "      <th>Agradecimientos</th>\n",
       "      <td>te lo agradezco gracias muchas gracias muchisi...</td>\n",
       "      <td>re.compile('(\\\\bte lo agradezco\\\\b)|(\\\\bgracia...</td>\n",
       "    </tr>\n",
       "    <tr>\n",
       "      <th>Nacimiento</th>\n",
       "      <td>que signo eres cuando cumples años cuantos año...</td>\n",
       "      <td>re.compile('(\\\\bque signo eres\\\\b)|(\\\\bcuando ...</td>\n",
       "    </tr>\n",
       "    <tr>\n",
       "      <th>Pregunta_de_aguinaldo</th>\n",
       "      <td>cuando pagar aguinaldo cuanto corresponde agui...</td>\n",
       "      <td>re.compile('(\\\\bcuando pagar aguinaldo\\\\b)|(\\\\...</td>\n",
       "    </tr>\n",
       "    <tr>\n",
       "      <th>Pregunta_de_liquidacion</th>\n",
       "      <td>pues novedad que puto jefe me va mandar alv li...</td>\n",
       "      <td>re.compile('(\\\\bnovedad puto jefe va mandar\\\\b...</td>\n",
       "    </tr>\n",
       "    <tr>\n",
       "      <th>Temas_de_confidecialidad</th>\n",
       "      <td>me puedes habalar sobre temas confidencialidad...</td>\n",
       "      <td>re.compile('(\\\\bhabalar temas confidencialidad...</td>\n",
       "    </tr>\n",
       "    <tr>\n",
       "      <th>RepartoUtilidades</th>\n",
       "      <td>utilidades cuanto me deben pagar reparto utili...</td>\n",
       "      <td>re.compile('(\\\\butilidades\\\\b)|(\\\\bpagar repar...</td>\n",
       "    </tr>\n",
       "    <tr>\n",
       "      <th>Pregunta_de_vacaciones</th>\n",
       "      <td>cuantos dias tocan vacaciones vacaciones cuant...</td>\n",
       "      <td>re.compile('(\\\\bdias tocan vacaciones\\\\b)|(\\\\b...</td>\n",
       "    </tr>\n",
       "    <tr>\n",
       "      <th>Registro_de_marca</th>\n",
       "      <td>registrar logo registro marca logo registrar s...</td>\n",
       "      <td>re.compile('(\\\\bregistrar logo\\\\b)|(\\\\bregistr...</td>\n",
       "    </tr>\n",
       "    <tr>\n",
       "      <th>derecho-de-protección-de-datos</th>\n",
       "      <td>tarjeta clonada  tarjeta  clonar</td>\n",
       "      <td>re.compile('(\\\\btarjeta clonada\\\\b)')</td>\n",
       "    </tr>\n",
       "    <tr>\n",
       "      <th>Asesoria</th>\n",
       "      <td>en que temas me puedes asesorar me puedes ases...</td>\n",
       "      <td>re.compile('(\\\\btemas asesorar\\\\b)|(\\\\bme pued...</td>\n",
       "    </tr>\n",
       "    <tr>\n",
       "      <th>Creación</th>\n",
       "      <td>quien trabajas quien esta detras ti quien te h...</td>\n",
       "      <td>re.compile('(\\\\bpara quien trabajas\\\\b)|(\\\\bde...</td>\n",
       "    </tr>\n",
       "    <tr>\n",
       "      <th>Afirmativo</th>\n",
       "      <td>pollo porfa ok awiwi ey ahuevo simon afirmativ...</td>\n",
       "      <td>re.compile('(\\\\bpor su pollo\\\\b)|(\\\\bporfa\\\\b)...</td>\n",
       "    </tr>\n",
       "    <tr>\n",
       "      <th>Negativo</th>\n",
       "      <td>no nada negativo es incorrecto incorrecto eso ...</td>\n",
       "      <td>re.compile('(\\\\bno\\\\b)|(\\\\bpara nada\\\\b)|(\\\\bn...</td>\n",
       "    </tr>\n",
       "    <tr>\n",
       "      <th>Quien_te_creo</th>\n",
       "      <td>como te hicieron como te programaron quien te ...</td>\n",
       "      <td>re.compile('(\\\\bcomo te hicieron\\\\b)|(\\\\bcomo ...</td>\n",
       "    </tr>\n",
       "    <tr>\n",
       "      <th>Inseguro</th>\n",
       "      <td>creo que fue creo que fue en no lo se no lo re...</td>\n",
       "      <td>re.compile('(\\\\bcreo que fue\\\\b)|(\\\\bcreo\\\\b)|...</td>\n",
       "    </tr>\n",
       "    <tr>\n",
       "      <th>Trabajar</th>\n",
       "      <td>quiero chambear max quiero colaborar ustedes c...</td>\n",
       "      <td>re.compile('(\\\\bquiero chambear\\\\b)|(\\\\bquiero...</td>\n",
       "    </tr>\n",
       "    <tr>\n",
       "      <th>Felicitaciones</th>\n",
       "      <td>congratulations felicidades muy bien  congratu...</td>\n",
       "      <td>re.compile('(\\\\bcongratulations\\\\b)|(\\\\bfelici...</td>\n",
       "    </tr>\n",
       "    <tr>\n",
       "      <th>Mas_de_una_persona</th>\n",
       "      <td>mas una mas una persona dos mas tres mas 2 3  ...</td>\n",
       "      <td>re.compile('(\\\\bmas de una\\\\b)|(\\\\bpersona\\\\b)...</td>\n",
       "    </tr>\n",
       "    <tr>\n",
       "      <th>Saludo</th>\n",
       "      <td>que hongo ayudame quiubo max saludos aloh holi...</td>\n",
       "      <td>re.compile('(\\\\bque hongo\\\\b)|(\\\\bayudame\\\\b)|...</td>\n",
       "    </tr>\n",
       "  </tbody>\n",
       "</table>\n",
       "</div>"
      ],
      "text/plain": [
       "                                                                              DOC  \\\n",
       "Descanso                        que pasa 1 primero mayo 1o mayo se trabaja 1 m...   \n",
       "Una_persona                                                         una 1  uno  1   \n",
       "Trabajar_empresa                                empresa empresa  empresa  empresa   \n",
       "Día                             cual es fecha hoy que dia semana es hoy que di...   \n",
       "20dias                          faltan mis 20 dias año calcular 20 dias año pa...   \n",
       "Pregunta_Constitucion_Sociedad  como puedo constituir una sociedad como puedo ...   \n",
       "Pregunta_de_estado              como estas como estas max como te va max como ...   \n",
       "derecho-mercantil               compañia seguros no quiere reembolsar asegurad...   \n",
       "NoDespedido                     en realidad aun no me despiden creo que estoy ...   \n",
       "derecho-familiar                quiero divorciar tacaño marido no me ha pagado...   \n",
       "Comisiones                      mis comiciones mas mis comiciones  mi  comicio...   \n",
       "Trabajar_outsourcing            outsourcing es outsourcing  outsourcing  ser  ...   \n",
       "derecho-penal                   clonaron tarjeta robaron casa asesinaron espos...   \n",
       "derecho-fiscal                  me llego un requerimiento del hacienda  me  ll...   \n",
       "Despido_injustificado           despido injustiicado hablame sobre despido inj...   \n",
       "Trolleo                         joder coño saca caguamas me amas tienes packs ...   \n",
       "Pregunta_de_finiquito           puedo calcular finiquito cuanto toca renuncia ...   \n",
       "DudaSalarioMinimo               que es minimo salario cuanto me toca salario m...   \n",
       "chiste                          cuentame un chiste jaja jajajajajajaja jejejej...   \n",
       "derecho-administrativo          me quieres llevar al torito me pararon transit...   \n",
       "derecho-civil                   inquilino no se quiere salir casa caseo no me ...   \n",
       "Confidencialidad_laboral        confidencialidad laboral  confidencialidad  la...   \n",
       "Cuanto_tarda_el_finiquito       en cuanto tiempo me dan finiquito cuando me ll...   \n",
       "Tener_duda                      tengo dudas me surgio una duda no me queda cla...   \n",
       "Agradecimientos                 te lo agradezco gracias muchas gracias muchisi...   \n",
       "Nacimiento                      que signo eres cuando cumples años cuantos año...   \n",
       "Pregunta_de_aguinaldo           cuando pagar aguinaldo cuanto corresponde agui...   \n",
       "Pregunta_de_liquidacion         pues novedad que puto jefe me va mandar alv li...   \n",
       "Temas_de_confidecialidad        me puedes habalar sobre temas confidencialidad...   \n",
       "RepartoUtilidades               utilidades cuanto me deben pagar reparto utili...   \n",
       "Pregunta_de_vacaciones          cuantos dias tocan vacaciones vacaciones cuant...   \n",
       "Registro_de_marca               registrar logo registro marca logo registrar s...   \n",
       "derecho-de-protección-de-datos                   tarjeta clonada  tarjeta  clonar   \n",
       "Asesoria                        en que temas me puedes asesorar me puedes ases...   \n",
       "Creación                        quien trabajas quien esta detras ti quien te h...   \n",
       "Afirmativo                      pollo porfa ok awiwi ey ahuevo simon afirmativ...   \n",
       "Negativo                        no nada negativo es incorrecto incorrecto eso ...   \n",
       "Quien_te_creo                   como te hicieron como te programaron quien te ...   \n",
       "Inseguro                        creo que fue creo que fue en no lo se no lo re...   \n",
       "Trabajar                        quiero chambear max quiero colaborar ustedes c...   \n",
       "Felicitaciones                  congratulations felicidades muy bien  congratu...   \n",
       "Mas_de_una_persona              mas una mas una persona dos mas tres mas 2 3  ...   \n",
       "Saludo                          que hongo ayudame quiubo max saludos aloh holi...   \n",
       "\n",
       "                                                                            REGEX  \n",
       "Descanso                        re.compile('(\\\\bpasa primero mayo\\\\b)|(\\\\b1o m...  \n",
       "Una_persona                                   re.compile('(\\\\buna\\\\b)|(\\\\b1\\\\b)')  \n",
       "Trabajar_empresa                re.compile('(\\\\bpor empresa\\\\b)|(\\\\bempresa\\\\b)')  \n",
       "Día                             re.compile('(\\\\bfecha\\\\b)|(\\\\bdia semana\\\\b)|(...  \n",
       "20dias                          re.compile('(\\\\bfaltan dias año\\\\b)|(\\\\bcalcul...  \n",
       "Pregunta_Constitucion_Sociedad  re.compile('(\\\\bconstituir sociedad\\\\b)|(\\\\bcr...  \n",
       "Pregunta_de_estado              re.compile('(\\\\bcomo estas\\\\b)|(\\\\bcomo estas ...  \n",
       "derecho-mercantil               re.compile('(\\\\bcompañia seguros quiere reembo...  \n",
       "NoDespedido                     re.compile('(\\\\brealidad despiden\\\\b)|(\\\\bcreo...  \n",
       "derecho-familiar                re.compile('(\\\\bquiero divorciar\\\\b)|(\\\\btacañ...  \n",
       "Comisiones                      re.compile('(\\\\bmis comiciones\\\\b)|(\\\\bmas mis...  \n",
       "Trabajar_outsourcing            re.compile('(\\\\boutsourcing\\\\b)|(\\\\bes outsour...  \n",
       "derecho-penal                   re.compile('(\\\\bclonaron tarjeta\\\\b)|(\\\\brobar...  \n",
       "derecho-fiscal                  re.compile('(\\\\bllego requerimiento hacienda\\\\...  \n",
       "Despido_injustificado           re.compile('(\\\\bdespido injustiicado\\\\b)|(\\\\bh...  \n",
       "Trolleo                         re.compile('(\\\\bjoder coño\\\\b)|(\\\\bsaca las ca...  \n",
       "Pregunta_de_finiquito           re.compile('(\\\\bcalcular finiquito\\\\b)|(\\\\bcua...  \n",
       "DudaSalarioMinimo               re.compile('(\\\\bminimo salario\\\\b)|(\\\\btoca sa...  \n",
       "chiste                          re.compile('(\\\\bcuentame un chiste\\\\b)|(\\\\bjaj...  \n",
       "derecho-administrativo          re.compile('(\\\\bquieres llevar torito\\\\b)|(\\\\b...  \n",
       "derecho-civil                   re.compile('(\\\\binquilino quiere salir casa\\\\b...  \n",
       "Confidencialidad_laboral           re.compile('(\\\\bconfidencialidad laboral\\\\b)')  \n",
       "Cuanto_tarda_el_finiquito       re.compile('(\\\\bcuanto tiempo dan finiquito\\\\b...  \n",
       "Tener_duda                      re.compile('(\\\\btengo dudas\\\\b)|(\\\\bsurgio dud...  \n",
       "Agradecimientos                 re.compile('(\\\\bte lo agradezco\\\\b)|(\\\\bgracia...  \n",
       "Nacimiento                      re.compile('(\\\\bque signo eres\\\\b)|(\\\\bcuando ...  \n",
       "Pregunta_de_aguinaldo           re.compile('(\\\\bcuando pagar aguinaldo\\\\b)|(\\\\...  \n",
       "Pregunta_de_liquidacion         re.compile('(\\\\bnovedad puto jefe va mandar\\\\b...  \n",
       "Temas_de_confidecialidad        re.compile('(\\\\bhabalar temas confidencialidad...  \n",
       "RepartoUtilidades               re.compile('(\\\\butilidades\\\\b)|(\\\\bpagar repar...  \n",
       "Pregunta_de_vacaciones          re.compile('(\\\\bdias tocan vacaciones\\\\b)|(\\\\b...  \n",
       "Registro_de_marca               re.compile('(\\\\bregistrar logo\\\\b)|(\\\\bregistr...  \n",
       "derecho-de-protección-de-datos              re.compile('(\\\\btarjeta clonada\\\\b)')  \n",
       "Asesoria                        re.compile('(\\\\btemas asesorar\\\\b)|(\\\\bme pued...  \n",
       "Creación                        re.compile('(\\\\bpara quien trabajas\\\\b)|(\\\\bde...  \n",
       "Afirmativo                      re.compile('(\\\\bpor su pollo\\\\b)|(\\\\bporfa\\\\b)...  \n",
       "Negativo                        re.compile('(\\\\bno\\\\b)|(\\\\bpara nada\\\\b)|(\\\\bn...  \n",
       "Quien_te_creo                   re.compile('(\\\\bcomo te hicieron\\\\b)|(\\\\bcomo ...  \n",
       "Inseguro                        re.compile('(\\\\bcreo que fue\\\\b)|(\\\\bcreo\\\\b)|...  \n",
       "Trabajar                        re.compile('(\\\\bquiero chambear\\\\b)|(\\\\bquiero...  \n",
       "Felicitaciones                  re.compile('(\\\\bcongratulations\\\\b)|(\\\\bfelici...  \n",
       "Mas_de_una_persona              re.compile('(\\\\bmas de una\\\\b)|(\\\\bpersona\\\\b)...  \n",
       "Saludo                          re.compile('(\\\\bque hongo\\\\b)|(\\\\bayudame\\\\b)|...  "
      ]
     },
     "execution_count": 23,
     "metadata": {},
     "output_type": "execute_result"
    }
   ],
   "source": [
    "parser.intents"
   ]
  },
  {
   "cell_type": "code",
   "execution_count": 4,
   "metadata": {},
   "outputs": [
    {
     "name": "stdout",
     "output_type": "stream",
     "text": [
      "Negativo re.compile('(\\\\bno\\\\b)|(\\\\bpara nada\\\\b)|(\\\\bnegativo\\\\b)|(\\\\bes incorrecto\\\\b)|(\\\\bincorrecto\\\\b)|(\\\\berror\\\\b)|(\\\\bpor supuesto no\\\\b)|(\\\\bnel\\\\b)|(\\\\bnel pastel\\\\b)|(\\\\bnelson\\\\b)|(\\\\bno\\\\b)|(\\\\bnadar\\\\b)|(\\\\)\n",
      "Afirmativo re.compile('(\\\\bpor su pollo\\\\b)|(\\\\bporfa\\\\b)|(\\\\bok\\\\b)|(\\\\bawiwi\\\\b)|(\\\\bey\\\\b)|(\\\\bahuevo\\\\b)|(\\\\bsimon\\\\b)|(\\\\bafirmativo\\\\b)|(\\\\bcorrecto\\\\b)|(\\\\bes correcto\\\\b)|(\\\\bpor su puesto\\\\b)|(\\\\basi es\\\\b)|(\\\\bco)\n",
      "Despido_injustificado re.compile('(\\\\bdespido injustiicado\\\\b)|(\\\\bhablame sobre despido injustficado\\\\b)|(\\\\bjefe corrio sin motivo\\\\b)|(\\\\bdespido sin motivo rason\\\\b)|(\\\\bdespedir\\\\b)|(\\\\binjustiicado\\\\b)|(\\\\bhablame\\\\b)|(\\\\bsobra)\n",
      "Pregunta_de_liquidacion re.compile('(\\\\bcon novedad de puto jefe va a mandar alv\\\\b)|(\\\\bliquidacion\\\\b)|(\\\\bquiero toca de liquidacion\\\\b)|(\\\\bdespido\\\\b)|(\\\\btendrian pagar\\\\b)|(\\\\bcalcular liquidacion\\\\b)|(\\\\bme van despedir\\\\b)|(\\\\)\n"
     ]
    }
   ],
   "source": [
    "key = ['Negativo', 'Afirmativo', 'Despido_injustificado', 'Pregunta_de_liquidacion']\n",
    "arcs = parser._slice_intents(key)\n",
    "for index, regex in arcs.REGEX.iteritems():\n",
    "    print(index, regex)"
   ]
  },
  {
   "cell_type": "code",
   "execution_count": 8,
   "metadata": {},
   "outputs": [
    {
     "name": "stdout",
     "output_type": "stream",
     "text": [
      "Attempting regex parse...\n",
      "Regex parse not successful!!\n",
      "Attempting cosine parse...\n"
     ]
    },
    {
     "data": {
      "text/plain": [
       "('derecho-familiar', 0.061004448800570509)"
      ]
     },
     "execution_count": 8,
     "metadata": {},
     "output_type": "execute_result"
    }
   ],
   "source": [
    "query = 'me quiero divorciar'\n",
    "decision, score = parser.intent_parse(query, list(parser.intents.index))\n",
    "decision, score"
   ]
  },
  {
   "cell_type": "markdown",
   "metadata": {},
   "source": [
    "## Regex parsing"
   ]
  },
  {
   "cell_type": "code",
   "execution_count": 36,
   "metadata": {
    "collapsed": true
   },
   "outputs": [],
   "source": [
    "import re"
   ]
  },
  {
   "cell_type": "code",
   "execution_count": 47,
   "metadata": {},
   "outputs": [
    {
     "name": "stdout",
     "output_type": "stream",
     "text": [
      "1967\n",
      "2009\n"
     ]
    }
   ],
   "source": [
    "for match in re.finditer('(\\d{2})\\d{2}', 'del 4 de nov de 1967 al 20 de agosto de 2009'):\n",
    "    print(match.group())"
   ]
  },
  {
   "cell_type": "code",
   "execution_count": 58,
   "metadata": {},
   "outputs": [
    {
     "data": {
      "text/plain": [
       "['del', '4', 'de', 'nov', 'de', '1967', 'al', '20', 'ago', '2009']"
      ]
     },
     "execution_count": 58,
     "metadata": {},
     "output_type": "execute_result"
    }
   ],
   "source": [
    "re.sub('[^\\w\\s]', ' ', 'del 4 de nov de 1967;, al 20-ago- 2009.').split()"
   ]
  },
  {
   "cell_type": "code",
   "execution_count": 153,
   "metadata": {},
   "outputs": [
    {
     "name": "stdout",
     "output_type": "stream",
     "text": [
      "Augmenting intent internal representation...\n",
      "DONE\n"
     ]
    }
   ],
   "source": [
    "from maxbot.sensors.nlu.parsing import NLParser, VECTORIZER, cosine_similarity, CLEANER\n",
    "\n",
    "parser = NLParser('data/intents.csv')"
   ]
  },
  {
   "cell_type": "code",
   "execution_count": 8,
   "metadata": {},
   "outputs": [
    {
     "data": {
      "text/plain": [
       "Index(['DudaSalarioMinimo', 'Una_persona', 'Cuanto_tarda_el_finiquito',\n",
       "       'Pregunta_de_liquidacion', 'Trabajar_empresa',\n",
       "       'derecho-de-protección-de-datos', 'Comisiones', 'Registro_de_marca',\n",
       "       'derecho-civil', 'derecho-fiscal', 'Día', 'Afirmativo', 'derecho-penal',\n",
       "       'Negativo', 'Trolleo', 'Mas_de_una_persona', 'Inseguro', 'Tener_duda',\n",
       "       'Confidencialidad_laboral', 'Asesoria', 'Pregunta_de_finiquito',\n",
       "       'Nacimiento', 'chiste', 'NoDespedido', 'Despido_injustificado',\n",
       "       'Trabajar_outsourcing', 'Pregunta_de_vacaciones',\n",
       "       'Pregunta_de_aguinaldo', 'Agradecimientos', 'Pregunta_de_estado',\n",
       "       'RepartoUtilidades', 'Creación', 'derecho-familiar', 'Quien_te_creo',\n",
       "       '20dias', 'derecho-administrativo', 'derecho-mercantil', 'Descanso',\n",
       "       'Temas_de_confidecialidad', 'Felicitaciones', 'Saludo', 'Trabajar'],\n",
       "      dtype='object')"
      ]
     },
     "execution_count": 8,
     "metadata": {},
     "output_type": "execute_result"
    }
   ],
   "source": [
    "parser.intents.index"
   ]
  },
  {
   "cell_type": "code",
   "execution_count": 154,
   "metadata": {},
   "outputs": [
    {
     "data": {
      "text/plain": [
       "array(0.5067775085708154)"
      ]
     },
     "execution_count": 154,
     "metadata": {},
     "output_type": "execute_result"
    }
   ],
   "source": [
    "targets = ['Registro_de_marca',\n",
    "           'Pregunta_de_liquidacion', \n",
    "           'Pregunta_de_finiquito',\n",
    "           'Pregunta_de_aguinaldo', 'chiste']\n",
    "parser.intent_parse('pues mi jefe me retiró la computadora ayer y hoy me dieron de baja de la cuenta de correos',\n",
    "                    ['chiste'], serialize=True)"
   ]
  },
  {
   "cell_type": "code",
   "execution_count": 166,
   "metadata": {},
   "outputs": [
    {
     "data": {
      "text/plain": [
       "array(0.1763636405782468)"
      ]
     },
     "execution_count": 166,
     "metadata": {},
     "output_type": "execute_result"
    }
   ],
   "source": [
    "query = 'pues mi jefe me retiró la computadora ayer y hoy me dieron de baja de la cuenta de correos'\n",
    "key = 'chiste'\n",
    "examples = ' '.join(parser.intents.DOC[parser.intents.index == key])\n",
    "char_vect = TfidfVectorizer(analyzer='char',\n",
    "                            tokenizer=CLEANER.remove_stopwords_text,\n",
    "                            ngram_range=(2, 5))\n",
    "tfidfs = char_vect.fit_transform([examples, query])\n",
    "cosine_similarity(tfidfs[0, :], tfidfs[1, :]).squeeze()"
   ]
  },
  {
   "cell_type": "code",
   "execution_count": 167,
   "metadata": {
    "scrolled": false
   },
   "outputs": [
    {
     "name": "stdout",
     "output_type": "stream",
     "text": [
      "jaja 0.353096227414 chiste\n",
      "jajajajajajaja 0.43228670878 chiste\n",
      "jejejejeje 0.248810649128 chiste\n",
      "jijijijiji 0.273362186428 chiste\n",
      "En cuanto tiempo me dan mi finiquito -0.241467522466 Cuanto_tarda_el_finiquito\n",
      "Cunto tengo que esperar mi finiquito -0.259041215461 Cuanto_tarda_el_finiquito\n",
      "Cuando tiene que llegar mi finiquito -0.240408490689 Cuanto_tarda_el_finiquito\n",
      "Cuanto tarda mi finiquito -0.20573945357 Cuanto_tarda_el_finiquito\n",
      "quiero cobrar un pagaré de una persona que no me ha pagado -0.225092273248 derecho-civil\n",
      "¿Me puedes decir el finiquito que me toca? -0.207584672655 Pregunta_de_finiquito\n",
      "renunciar cuánto pagar -0.20271894469 Pregunta_de_finiquito\n",
      "Quiero saber cuánto me toca de liquidación -0.219955842285 Pregunta_de_liquidacion\n",
      "¿Cuánto tienen pagar liquidación? -0.22927415372 Pregunta_de_liquidacion\n",
      "cuánto me deben pagar por el reparto de utilidades -0.226173860518 RepartoUtilidades\n",
      "si no me han pagado el reparto de utilidades, qué debo hacer -0.210868787564 RepartoUtilidades\n",
      "Me puedes habalar sobre temas de confidencialidad en el trabajo -0.228985084532 Temas_de_confidecialidad\n",
      "Como puedo liberar mi servicio social con ustedes -0.22892940663 Trabajar\n"
     ]
    }
   ],
   "source": [
    "#query = 'Ay ya cuéname otra cosa... un chiste!!!'\n",
    "for index, row in intents.iterrows():\n",
    "    query = row.PHRASE\n",
    "    key = 'chiste'\n",
    "    examples = ' '.join(parser.intents.DOC[parser.intents.index == key])\n",
    "    compl = ' '.join(parser.intents.DOC[parser.intents.index != key])\n",
    "    tfidfs = char_vect.fit_transform([compl, examples, query])\n",
    "    query_tfidf = tfidfs[-1, :]\n",
    "    res = []\n",
    "    for i, vect in enumerate(tfidfs[:-1, :]):\n",
    "        res.append(cosine_similarity(query_tfidf, vect).squeeze())\n",
    "    #score = parser.intent_parse(query, [key])\n",
    "    #if isinstance(score, tuple):\n",
    "    #    score = score[1]\n",
    "    if np.abs(res[0] - res[1]).squeeze() >= 0.2: \n",
    "        print(query,\n",
    "              res[1] - res[0],\n",
    "              row.INTENT)"
   ]
  },
  {
   "cell_type": "code",
   "execution_count": 169,
   "metadata": {
    "collapsed": true
   },
   "outputs": [],
   "source": [
    "def search_inline(text, key, low=0, up=None, verbose=False):\n",
    "    CHAR_VEC = TfidfVectorizer(analyzer='char',\n",
    "                               min_df=1,\n",
    "                               ngram_range=(2, 4))\n",
    "    lower = low\n",
    "    if up is None:\n",
    "        upper = len(key)\n",
    "    else:\n",
    "        upper = up\n",
    "    res = []\n",
    "    while upper < len(text):\n",
    "        portion = text[lower: upper].lower()\n",
    "        tfidf = CHAR_VEC.fit_transform([portion, key])\n",
    "        sim = cosine_similarity(tfidf[0, :], tfidf[1, :]).squeeze()\n",
    "        if verbose and sim:\n",
    "            print(sim, portion)\n",
    "        res.append((sim, (lower, upper), portion))\n",
    "        lower += 1\n",
    "        upper += 1\n",
    "    return res"
   ]
  },
  {
   "cell_type": "code",
   "execution_count": 168,
   "metadata": {},
   "outputs": [
    {
     "data": {
      "text/plain": [
       "'cuentame un chiste jaja jajajajajajaja jejejejeje jijijijiji estoy aburrido estoy deprimido ay ya dime otra cosa dime un chiste me quiero reir  cuentame  uno  chistar  jaja  jajajajajajaja  jejejejeje  jijijijiji  estar  aburrir  estar  deprimir  ay  ya  dime  otro  coser  dime  uno  chistar  me  querer  reir'"
      ]
     },
     "execution_count": 168,
     "metadata": {},
     "output_type": "execute_result"
    }
   ],
   "source": [
    "examples = ' '.join(parser.intents.DOC[parser.intents.index == 'chiste'])\n",
    "examples"
   ]
  },
  {
   "cell_type": "code",
   "execution_count": 178,
   "metadata": {},
   "outputs": [
    {
     "data": {
      "text/plain": [
       "(array(0.6477453055230885), (8, 30), ' un chiste jaja jajaja')"
      ]
     },
     "execution_count": 178,
     "metadata": {},
     "output_type": "execute_result"
    }
   ],
   "source": [
    "query = 'jajaja un chiste porfi'\n",
    "max(search_inline(examples, query), key=lambda tup: tup[0])"
   ]
  },
  {
   "cell_type": "markdown",
   "metadata": {},
   "source": [
    "## Pruebas de fórmulas de liquidación"
   ]
  },
  {
   "cell_type": "code",
   "execution_count": 40,
   "metadata": {
    "collapsed": true
   },
   "outputs": [],
   "source": [
    "from maxbot.utils.numeric_utils import get_indemnizacion, get_prima_vacacional, get_finiquito, dias_vacaciones\n",
    "from maxbot.utils.numeric_utils import get_liquidacion, get_aguinaldo, get_prima_antiguedad, get_vacaciones\n",
    "from maxbot.sensors.nlu.entities import parse_money, parse_date\n",
    "from maxbot.utils.functions import date_to_string, money_to_string\n",
    "\n",
    "import dateparser, datetime"
   ]
  },
  {
   "cell_type": "code",
   "execution_count": 41,
   "metadata": {},
   "outputs": [
    {
     "data": {
      "text/plain": [
       "'24/03/2010'"
      ]
     },
     "execution_count": 41,
     "metadata": {},
     "output_type": "execute_result"
    }
   ],
   "source": [
    "ingreso = parse_date('24 de marzo 2010')\n",
    "date_to_string(ingreso)"
   ]
  },
  {
   "cell_type": "code",
   "execution_count": 42,
   "metadata": {},
   "outputs": [
    {
     "data": {
      "text/plain": [
       "'08/09/2017'"
      ]
     },
     "execution_count": 42,
     "metadata": {},
     "output_type": "execute_result"
    }
   ],
   "source": [
    "baja = parse_date('08 de septiembre 2017')\n",
    "date_to_string(baja)"
   ]
  },
  {
   "cell_type": "code",
   "execution_count": 43,
   "metadata": {},
   "outputs": [
    {
     "data": {
      "text/plain": [
       "'$12,350.00 MXN'"
      ]
     },
     "execution_count": 43,
     "metadata": {},
     "output_type": "execute_result"
    }
   ],
   "source": [
    "salario_mensual = parse_money('$12,350')\n",
    "money_to_string(salario_mensual)"
   ]
  },
  {
   "cell_type": "code",
   "execution_count": 44,
   "metadata": {},
   "outputs": [
    {
     "data": {
      "text/plain": [
       "'$411.67 MXN'"
      ]
     },
     "execution_count": 44,
     "metadata": {},
     "output_type": "execute_result"
    }
   ],
   "source": [
    "salario_diario = salario_mensual / 30\n",
    "money_to_string(salario_diario)"
   ]
  },
  {
   "cell_type": "code",
   "execution_count": 45,
   "metadata": {},
   "outputs": [
    {
     "data": {
      "text/plain": [
       "'$4,219.62 MXN'"
      ]
     },
     "execution_count": 45,
     "metadata": {},
     "output_type": "execute_result"
    }
   ],
   "source": [
    "# Aguinaldo\n",
    "aguinaldo = get_aguinaldo(baja, salario_mensual)\n",
    "money_to_string(aguinaldo)"
   ]
  },
  {
   "cell_type": "code",
   "execution_count": 46,
   "metadata": {},
   "outputs": [
    {
     "name": "stdout",
     "output_type": "stream",
     "text": [
      "24/03/2017 08/09/2017\n"
     ]
    },
    {
     "data": {
      "text/plain": [
       "168"
      ]
     },
     "execution_count": 46,
     "metadata": {},
     "output_type": "execute_result"
    }
   ],
   "source": [
    "aniv = datetime.datetime(baja.year,\n",
    "                         ingreso.month,\n",
    "                         ingreso.day)\n",
    "print(date_to_string(aniv), date_to_string(baja))\n",
    "(baja - aniv).days"
   ]
  },
  {
   "cell_type": "code",
   "execution_count": 47,
   "metadata": {},
   "outputs": [
    {
     "name": "stdout",
     "output_type": "stream",
     "text": [
      "days: 169\n",
      "vac_days: 14\n",
      "vacs_year: 0.04\n"
     ]
    },
    {
     "data": {
      "text/plain": [
       "'$2,782.89 MXN'"
      ]
     },
     "execution_count": 47,
     "metadata": {},
     "output_type": "execute_result"
    }
   ],
   "source": [
    "# Vacaciones\n",
    "vacaciones = get_vacaciones(baja, ingreso, salario_mensual)\n",
    "money_to_string(vacaciones)"
   ]
  },
  {
   "cell_type": "code",
   "execution_count": 9,
   "metadata": {},
   "outputs": [
    {
     "data": {
      "text/plain": [
       "'$15,841.18 MXN'"
      ]
     },
     "execution_count": 9,
     "metadata": {},
     "output_type": "execute_result"
    }
   ],
   "source": [
    "money_to_string(get_prima_antiguedad(baja, ingreso, salario_mensual))"
   ]
  },
  {
   "cell_type": "code",
   "execution_count": 10,
   "metadata": {},
   "outputs": [
    {
     "data": {
      "text/plain": [
       "'$37,507.50 MXN'"
      ]
     },
     "execution_count": 10,
     "metadata": {},
     "output_type": "execute_result"
    }
   ],
   "source": [
    "money_to_string(get_indemnizacion(baja, ingreso, salario_mensual))"
   ]
  },
  {
   "cell_type": "code",
   "execution_count": 11,
   "metadata": {},
   "outputs": [
    {
     "data": {
      "text/plain": [
       "'$695.72 MXN'"
      ]
     },
     "execution_count": 11,
     "metadata": {},
     "output_type": "execute_result"
    }
   ],
   "source": [
    "money_to_string(get_prima_vacacional(baja, ingreso, salario_mensual))"
   ]
  }
 ],
 "metadata": {
  "kernelspec": {
   "display_name": "Python 3",
   "language": "python",
   "name": "python3"
  },
  "language_info": {
   "codemirror_mode": {
    "name": "ipython",
    "version": 3
   },
   "file_extension": ".py",
   "mimetype": "text/x-python",
   "name": "python",
   "nbconvert_exporter": "python",
   "pygments_lexer": "ipython3",
   "version": "3.6.1"
  }
 },
 "nbformat": 4,
 "nbformat_minor": 2
}
